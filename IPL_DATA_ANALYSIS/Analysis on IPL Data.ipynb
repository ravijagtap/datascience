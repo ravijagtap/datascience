{
 "cells": [
  {
   "cell_type": "markdown",
   "metadata": {},
   "source": [
    "<p align=\"center\"><img src=\"https://raw.githubusercontent.com/ravijagtap/datascience/main/IPL_DATA_ANALYSIS/images/Header.jpg\"  /></p>"
   ]
  },
  {
   "cell_type": "markdown",
   "metadata": {},
   "source": [
    "---\n",
    "# **Table of Contents**\n",
    "---\n",
    "\n",
    "1. [**Introduction**](#Section1)<br>\n",
    "  1.1 [**Tournament Format**](#Section11)<br>\n",
    "  1.2 [**Prize Money**](#Section12)<br>\n",
    "  1.3 [**Current Teams (2020)**](#Section13)<br>\n",
    "  1.4 [**Current Points Table**](#Section14)<br>\n",
    "2. [**Problem Statement**](#Section2)<br>\n",
    "  2.1 [**Generic Stats**](#Section21)<br>\n",
    "  2.2 [**Team Stats**](#Section22)<br>\n",
    "  2.3 [**Player Stats - Batting**](#Section23)<br>\n",
    "  2.4 [**Player Stats - Bowling**](#Section24)<br>\n",
    "  2.5 [**Player Stats - Fielding**](#Section25)<br>\n",
    "  2.6 [**Patnership Stats**](#Section26)<br>\n",
    "  2.7 [**Duckworth–Lewis Method**](#Section27)<br>  \n",
    "3. [**Installing & Importing Libraries**](#Section3)<br>\n",
    "  3.1 [**Installing Libraries**](#Section31)<br>\n",
    "  3.2 [**Upgrading Libraries**](#Section32)<br>\n",
    "  3.3 [**Importing Libraries**](#Section33)<br>\n",
    "4. [**Data Acquisition & Description**](#Section4)<br>\n",
    "5. [**Data Profiling**](#Section5)<br>\n",
    "6. [**Data Pre-Processing**](#Section6)<br>\n",
    "7. [**Exploratory Data Analysis**](#Section7)<br>\n",
    "  7.1 [**Generic Stats**](#Section71)<br>\n",
    "  7.2 [**Team Stats**](#Section72)<br>\n",
    "  7.3 [**Player Stats - Batting**](#Section73)<br>\n",
    "  7.4 [**Player Stats - Bowling**](#Section74)<br>\n",
    "  7.5 [**Player Stats - Fielding**](#Section75)<br>\n",
    "  7.6 [**Patnership Stats**](#Section76)<br>\n",
    "  7.7 [**Duckworth–Lewis Method**](#Section77)<br> \n",
    "8. [**Summarization**](#Section8)</br>\n",
    "  8.1 [**Conclusion**](#Section81)</br>\n",
    "  8.2 [**Actionable Insights**](#Section81)</br>\n",
    "  \n",
    "\n",
    "\n",
    "---"
   ]
  },
  {
   "cell_type": "markdown",
   "metadata": {},
   "source": [
    "---\n",
    "<a name = Section1></a>                                                                      \n",
    "# **1. Introduction**                                                                                              \n",
    "---\n",
    "\n",
    "The Indian Premier League (IPL) is a professional Twenty20 cricket league in India contested during March or April and May of every year by eight teams representing eight different cities or states in India. The league was founded by the Board of Control for Cricket in India (BCCI) in 2008. The IPL has an exclusive window in ICC Future Tours Programme.\n",
    "\n",
    "There have been twelve seasons of the IPL tournament. The current IPL title holders are the Mumbai Indians, who won the 2019 season. The venue for the 2020 season has been moved, due to the ongoing COVID-19 pandemic; games are now taking place in the United Arab Emirates from 19 September through 10 November 2020."
   ]
  },
  {
   "cell_type": "markdown",
   "metadata": {},
   "source": [
    "<a name = Section11></a>\n",
    "### **1.1 Tournament format**"
   ]
  },
  {
   "cell_type": "markdown",
   "metadata": {},
   "source": [
    "Currently, with eight teams, each team plays each other twice in a home-and-away round-robin format in the league phase. At the conclusion of the league stage, the top four teams will qualify for the playoffs. The top two teams from the league phase will play against each other in the first Qualifying match, with the winner going straight to the IPL final and the loser getting another chance to qualify for the IPL final by playing the second Qualifying match. Meanwhile, the third and fourth place teams from league phase play against each other in an eliminator match and the winner from that match will play the loser from the first Qualifying match. The winner of the second Qualifying match will move onto the final to play the winner of the first Qualifying match in the IPL Final match, where the winner will be crowned the Indian Premier League champions."
   ]
  },
  {
   "cell_type": "markdown",
   "metadata": {},
   "source": [
    "<a name = Section12></a>\n",
    "### **1.2 Prize money**"
   ]
  },
  {
   "cell_type": "markdown",
   "metadata": {},
   "source": [
    "The 2019 season of the IPL offered a total prize money of ₹500 million (US\\\\$7.0 million), with the winning team netting ₹200 million (US\\\\$2.8 million). The first and second runners up received ₹125 million (US\\\\$1.8 million) and ₹87.5 million (US\\\\$1.2 million), respectively, with the fourth placed team also winning ₹87.5 million (US\\\\$1.2 million). The other teams are not awarded any prize money. The IPL rules mandate that half of the prize money must be distributed among the players."
   ]
  },
  {
   "cell_type": "markdown",
   "metadata": {},
   "source": [
    "<a name = Section13></a>\n",
    "### **1.3 Current Teams (2020)**"
   ]
  },
  {
   "cell_type": "markdown",
   "metadata": {},
   "source": [
    "- Chennai Super Kings\t\n",
    "- Delhi Capitals\t\n",
    "- Kings XI Punjab\t\n",
    "- Kolkata Knight Riders\t\n",
    "- Mumbai Indians\t\n",
    "- Rajasthan Royals\t\n",
    "- Royal Challengers Bangalore\t\n",
    "- Sunrisers Hyderabad"
   ]
  },
  {
   "cell_type": "markdown",
   "metadata": {},
   "source": [
    "---\n",
    "<a name = Section2></a>\n",
    "# **2. Problem Statement**\n",
    "---\n",
    "\n",
    "The IPL is the most-attended cricket league in the world and in 2014 ranked sixth by average attendance among all sports leagues.\n",
    "\n",
    "To enchance the capabilities of players, to decide on team composition and stratergies, franchises may need concrete and precise analysis over the past plays & performance stats of the player and the team.\n",
    "\n",
    "Getting the deeper understanding of the data is not possible using the traditional methods.\n",
    "\n",
    "**Mumbai Indians** franchise owners needs to know all these stats to improve their chances on winning in the upcoming IPL seasons.\n",
    "\n",
    "So for this analysis **Mumbai Indians** is the team we will be doing analysis for and **Wankhede Stadium** is the home ground."
   ]
  },
  {
   "cell_type": "markdown",
   "metadata": {},
   "source": [
    "<a name = Section21></a>\n",
    "### **2.1 Generic Stats**"
   ]
  },
  {
   "cell_type": "markdown",
   "metadata": {},
   "source": [
    "* How many seasons we’ve got in the dataset?\n",
    "* How many matches we’ve got in the dataset?\n",
    "* How many matches were played in each season?\n",
    "* The Number of matches played in each venue?\n",
    "* Match Winners based on Season Year?\n",
    "* Which stadium is best for winning by runs?\n",
    "* Has Toss-winning helped in winning matches?\n",
    "* Which stadium is best for winning by wickets?\n",
    "* Does batting first or bowling first helped in match winning?\n",
    "* In which city does Weather affected matches?\n",
    "* Which season had the most number of matches?\n",
    "* Which venue is best for chasing?\n",
    "* Which venue is best for defending?\n",
    "* Which city hosted the most number of matches?\n",
    "* Toss Call for a given venue"
   ]
  },
  {
   "cell_type": "markdown",
   "metadata": {},
   "source": [
    "<a name = Section22></a>\n",
    "### **2.2 Team Stats**"
   ]
  },
  {
   "cell_type": "markdown",
   "metadata": {},
   "source": [
    "* No. of wins of each team in 2018\n",
    "* Which Team/Teams had won by maximum runs?\n",
    "* Which Team/Teams had won by maximum wicket?\n",
    "* Which Team has lost the match by more than 100 runs or by 8 or more wickets and how many times?\n",
    "* How many games were played till the last ball\n",
    "* Which Team had won by closest Margin (minimum runs)?\n",
    "* Team with Highest Net Run Rate in 2017\n",
    "* which team won most games while batting first\n",
    "* which team won most games while bowling first\n",
    "* which team won most games when they won the toss\n",
    "* which team won most games when they won the toss and batted first\n",
    "* which team won most games when they won the toss and bowled first\n",
    "* Which day is lucky for mumbai indians?\n",
    "* For Mumbai Indians which stadium is best when they win the toss?\n",
    "* Which is the best-chasing team?\n",
    "* Which is the best defending team?\n",
    "* Which team is the most successful in IPL till now?\n",
    "* Which team won the most number of matches in non-home ground?\n",
    "* which team played most final in ipl?\n",
    "* "
   ]
  },
  {
   "cell_type": "markdown",
   "metadata": {},
   "source": [
    "<a name = Section23></a>\n",
    "### **2.3 Player Stats - Batting**"
   ]
  },
  {
   "cell_type": "markdown",
   "metadata": {},
   "source": [
    "* Which player got the most number of MOM\n",
    "* Which player got the most number of MOM agains Chennai Super Kings\n",
    "* Which Stadium is best for CH Gayle (in terms of most MOMs)\n",
    "* Which Stadium is best for CH Gayle (in terms of most run scored)\n",
    "* Which player scored most runs in powerplay\n",
    "* which player hit the most number of 4s \n",
    "* which player hit the most number of 6s \n",
    "* player with highest and lowest strike rate\n",
    "* which batsman has the highest average\n",
    "* which player has most number of ducks?\n",
    "* Player with most centuries\n",
    "* Player with most half-centuries"
   ]
  },
  {
   "cell_type": "markdown",
   "metadata": {},
   "source": [
    "<a name = Section24></a>\n",
    "### **2.4 Player Stats - Bowling**"
   ]
  },
  {
   "cell_type": "markdown",
   "metadata": {},
   "source": [
    "* which bowler was economical in powerplay in 2018 edition of IPL?\n",
    "* which bowler was economical overall in 2018 edition of IPL?\n",
    "* which bowler took more wickets in powerplay?\n",
    "* which bowler has most wickets?\n",
    "* which bowler is the most economical bowlere in all edition of IPL?\n",
    "* which bowler has the most maidens overs\n",
    "* which bowler has the most maidens wicket overs\n",
    "* which bowler has dismissed Virat Kohli the most?\n",
    "* which bowler has given least extra runs?\n",
    "* which bowler gave most dot balls in ipl?\n",
    "* which bowler conceded most sixes in ipl?"
   ]
  },
  {
   "cell_type": "markdown",
   "metadata": {},
   "source": [
    "<a name = Section25></a>\n",
    "### **2.5 Player Stats - Fielding**"
   ]
  },
  {
   "cell_type": "markdown",
   "metadata": {},
   "source": [
    "* Most number of runouts\n",
    "* Most number or catches"
   ]
  },
  {
   "cell_type": "markdown",
   "metadata": {},
   "source": [
    "<a name = Section26></a>\n",
    "### **2.6 Patnership stats**"
   ]
  },
  {
   "cell_type": "markdown",
   "metadata": {},
   "source": [
    "* which patnership is the most sucessfull in 2017 edition of IPL\n",
    "* which patnership is the most sucessfull in IPL"
   ]
  },
  {
   "cell_type": "markdown",
   "metadata": {},
   "source": [
    "<a name = Section27></a>\n",
    "### **2.7 Duckworth–Lewis method**"
   ]
  },
  {
   "cell_type": "markdown",
   "metadata": {},
   "source": [
    "* When Duckworth–Lewis method was applied, then team batting first win most games or bowling first"
   ]
  },
  {
   "cell_type": "markdown",
   "metadata": {},
   "source": [
    "---\n",
    "<a id = Section3></a>\n",
    "# **3. Installing & Importing Libraries**\n",
    "---"
   ]
  },
  {
   "cell_type": "markdown",
   "metadata": {},
   "source": [
    "<a id = Section31></a>\n",
    "### **3.1 Installing Libraries**"
   ]
  },
  {
   "cell_type": "code",
   "execution_count": null,
   "metadata": {},
   "outputs": [],
   "source": [
    "!pip install -q datascience                                         \n",
    "!pip install -q pandas-profiling                                    "
   ]
  },
  {
   "cell_type": "markdown",
   "metadata": {},
   "source": [
    "<a id = Section32></a>\n",
    "### **3.2 Upgrading Libraries**\n",
    "\n",
    "- **After upgrading** the libraries, you need to **restart the runtime** to make the libraries in sync.\n",
    "\n",
    "- Make sure not to execute the cell under Installing Libraries and Upgrading Libraries again after restarting the runtime."
   ]
  },
  {
   "cell_type": "code",
   "execution_count": null,
   "metadata": {},
   "outputs": [],
   "source": [
    "!pip install -q --upgrade pandas-profiling                          # Upgrading pandas profiling to the latest version"
   ]
  },
  {
   "cell_type": "markdown",
   "metadata": {},
   "source": [
    "<a id = Section33></a>\n",
    "### **3.3 Importing Libraries**"
   ]
  },
  {
   "cell_type": "code",
   "execution_count": 3,
   "metadata": {},
   "outputs": [],
   "source": [
    "### **Importing Libraries**\n",
    "import pandas as pd\n",
    "import numpy as np\n",
    "import matplotlib.pyplot as plt\n",
    "import seaborn as sns"
   ]
  },
  {
   "cell_type": "markdown",
   "metadata": {},
   "source": [
    "---\n",
    "<a name = Section4></a>\n",
    "# **4. Data Acquisition & Description**\n",
    "---\n",
    "\n",
    "We will use below 2 datasets\n",
    "\n",
    "1. Matches - https://raw.githubusercontent.com/insaid2018/Term-1/master/Data/Projects/matches.csv\n",
    "\n",
    "This dataset contains details related to the match such as location, contesting teams, umpires, results, etc\n",
    "\n",
    "\n",
    "|Id|Column|Description|\n",
    "|:--|:--|:--|\n",
    "|01| id\t| Match Id| \n",
    "|02| season\t| Season Year| \n",
    "|03| city\t| City in which the match as played |  \n",
    "|04| date\t| Date on which match was played| \n",
    "|05| team1\t| Team Participating in the match|   \n",
    "|06| team2\t| Team Participating in the match|\n",
    "|07| toss_winner| Team who won the toss|\n",
    "|08| toss_decision| What team decided after wining the toss|\n",
    "|09| result| if there was a result, tie or no result|\n",
    "|10| dl_applied| Duckworth lewis method was applied or not|\n",
    "|11| winner| Which team won the match|\n",
    "|12| win_by_runs| Won by Runs |\n",
    "|13| win_by_wickets| Won By Wickets|\n",
    "|14| player_of_match| Man of the match|\n",
    "|15| venue| Name of the stadium|\n",
    "|16| umpire1| On Field Umpire 1|\n",
    "|17| umpire2|On Field Umpire 2|\n",
    "|18| umpire3|Third Umpire|\n",
    "\n",
    "\n",
    "2. Deliveries - https://raw.githubusercontent.com/insaid2018/Term-1/master/Data/Projects/deliveries.csv\n",
    "\n",
    "This dataset is the ball-by-ball data of all the IPL matches including data of the batting team, batsman, bowler, non-striker, runs scored, etc\n",
    "\n",
    "|Id|Column|Description|\n",
    "|:--|:--|:--|\n",
    "|01|match_id|Match Id|\n",
    "|02|inning|1st or 2nd Inning |\n",
    "|03|batting_team|Team Batting|\n",
    "|04|bowling_team|Team Bowling|\n",
    "|05|over|Over number|\n",
    "|06|ball|Ball number in the over|\n",
    "|07|batsman|Name of the Batsman at crease|\n",
    "|08|non_striker|Name of Batsman at non-striker end|\n",
    "|09|bowler|Bowler who bowled the over|\n",
    "|10|is_super_over|Is this a super over|\n",
    "|11|wide_runs|Runs on wide delivery|\n",
    "|12|bye_runs|Bye Runs|\n",
    "|13|legbye_runs|Legbye Runs|\n",
    "|14|noball_runs|Runs on a noball delivery|\n",
    "|15|penalty_runs|Penalty Runs|\n",
    "|16|batsman_runs|Runs by Batsman|\n",
    "|17|extra_runs|Total Extra Runs|\n",
    "|18|total_runs|Total Runs (Total Extra + Runs by Batsman)|\n",
    "|19|player_dismissed|Is Batsman dismissed on this delivery||\n",
    "|20|dismissal_kind|How Batsman got dismissed|\n",
    "|20|fielder|If its a caught or bowled then which fielder was involved|\n",
    "\n"
   ]
  },
  {
   "cell_type": "markdown",
   "metadata": {},
   "source": [
    "#### Read Data from CSV ####"
   ]
  },
  {
   "cell_type": "code",
   "execution_count": 4,
   "metadata": {},
   "outputs": [],
   "source": [
    "matches = pd.read_csv(\"https://raw.githubusercontent.com/insaid2018/Term-1/master/Data/Projects/matches.csv\")\n",
    "deliveries = pd.read_csv(\"https://raw.githubusercontent.com/insaid2018/Term-1/master/Data/Projects/deliveries.csv\")"
   ]
  },
  {
   "cell_type": "markdown",
   "metadata": {},
   "source": [
    "---\n",
    "<a name = Section5></a>\n",
    "# **5. Data Profiling**\n",
    "---"
   ]
  },
  {
   "cell_type": "markdown",
   "metadata": {},
   "source": [
    "Pandas has an open source module 'pandas_profiling' using which we can quickly do EDA using just few lines of code\n",
    "It generates an interactive profile reports from a pandas DataFrame. The pandas df.describe() function is great but a little basic for serious EDA. pandas_profiling extends the pandas DataFrame with df.profile_report() for quick data analysis.\n",
    "\n",
    "It can be installed using below command if not already installed.\n",
    "\n",
    "#!pip install pandas_profiling==1.4.1\n"
   ]
  },
  {
   "cell_type": "code",
   "execution_count": 20,
   "metadata": {},
   "outputs": [],
   "source": [
    "# import the required module\n",
    "import pandas_profiling "
   ]
  },
  {
   "cell_type": "code",
   "execution_count": 31,
   "metadata": {},
   "outputs": [],
   "source": [
    "# matches dataset profiling\n",
    "matches_profile = matches.profile_report(title=\"IPL Data Profiling before Data Processing of matches DF\", progress_bar=False, minimal=True)\n",
    "matches_profile.to_file(output_file=\"matches_profiling_before_processing.html\")"
   ]
  },
  {
   "cell_type": "code",
   "execution_count": 33,
   "metadata": {},
   "outputs": [],
   "source": [
    "# deliveries dataset profiling\n",
    "deliveries_profile = deliveries.profile_report(title=\"IPL Data Profiling before Data processing of deliveries DF\", progress_bar=False, minimal=True)\n",
    "deliveries_profile.to_file(output_file=\"deliveries_profiling_before_processing.html\")"
   ]
  },
  {
   "cell_type": "markdown",
   "metadata": {},
   "source": [
    "The report can be downloaded from here \n",
    "https://github.com/ravijagtap/datascience/blob/main/IPL_DATA_ANALYSIS/matches_profiling_before_processing.html\n",
    "https://github.com/ravijagtap/datascience/blob/main/IPL_DATA_ANALYSIS/deliveries_profiling_before_processing.html"
   ]
  },
  {
   "cell_type": "markdown",
   "metadata": {},
   "source": [
    "**Observations from Pandas Profiling of '<em>matches</em>' Data set before Data Processing** <br><br>\n",
    "\n",
    "\n",
    "###### **<em>matches</em> Data set** ######\n",
    "\n",
    "__Dataset info__:\n",
    "- Number of variables: 18\n",
    "- Number of observations: 696\n",
    "- Missing cells: 651 (5.2%)\n",
    "- Duplicate Rows: 0\n",
    "\n",
    "__Variables types__: \n",
    "- Numeric = 4\n",
    "- Categorical = 13\n",
    "- Boolean = 1\n",
    "\n",
    "<br>\n",
    "\n",
    "- There are overall **11 seasons** data in the data set**.\n",
    "\n",
    "- **umpire3** has **636 (91.4%) missing values**.\n",
    "\n",
    "- **city** has **7 (1.0%) missing values**.\n",
    "\n",
    "- **player_of_match** has high cardinality **214 distinct values**.\n",
    "\n",
    "- **CH Gayle** has got more **player_of_match (20 times)**.\n",
    "\n",
    "- out of **696 matches**, we have got results for **686 matches**, **7 were tie matches** and **3 matches has no results**.\n",
    "\n",
    "- there were overall **19 matches** where  **duckworth lewis** method was applied.\n",
    "\n",
    "---\n",
    "\n",
    "###### **<em>deliveries</em> Data set** ######\n",
    "\n",
    "__Dataset info__:\n",
    "- Number of variables: 21\n",
    "- Number of observations: 1,64,750\n",
    "- Missing cells: 472018 (13.6%)\n",
    "- Duplicate Rows: 5\n",
    "\n",
    "__Variables types__: \n",
    "- Numeric = 10\n",
    "- Categorical = 10\n",
    "- Boolean = 1\n",
    "\n",
    "<br>\n",
    "\n",
    "- **player_dismissed** and **dismissal_kind** has **156593 missing values**.\n",
    "\n",
    "- **batsman** has high cardinality **488 distinct values**.\n",
    "\n",
    "- **innings** has values as **3** and **4**, which means there were some matches in which super over was bowled."
   ]
  },
  {
   "cell_type": "markdown",
   "metadata": {},
   "source": [
    "---\n",
    "<a name = Section6></a>\n",
    "# **6. Data Preprocessing**\n",
    "---"
   ]
  },
  {
   "cell_type": "markdown",
   "metadata": {},
   "source": [
    "#### Get the dimensions of the datasets ####"
   ]
  },
  {
   "cell_type": "markdown",
   "metadata": {},
   "source": [
    "**matches**"
   ]
  },
  {
   "cell_type": "code",
   "execution_count": 6,
   "metadata": {},
   "outputs": [
    {
     "data": {
      "text/plain": [
       "(696, 18)"
      ]
     },
     "execution_count": 6,
     "metadata": {},
     "output_type": "execute_result"
    }
   ],
   "source": [
    "matches.shape"
   ]
  },
  {
   "cell_type": "markdown",
   "metadata": {},
   "source": [
    "- There are 696 rows and 18 columns in the matches dataset"
   ]
  },
  {
   "cell_type": "markdown",
   "metadata": {},
   "source": [
    "###### View the different datatypes in datasets######"
   ]
  },
  {
   "cell_type": "code",
   "execution_count": 17,
   "metadata": {
    "scrolled": false
   },
   "outputs": [
    {
     "name": "stdout",
     "output_type": "stream",
     "text": [
      "<class 'pandas.core.frame.DataFrame'>\n",
      "RangeIndex: 696 entries, 0 to 695\n",
      "Data columns (total 18 columns):\n",
      " #   Column           Non-Null Count  Dtype \n",
      "---  ------           --------------  ----- \n",
      " 0   id               696 non-null    int64 \n",
      " 1   season           696 non-null    int64 \n",
      " 2   city             689 non-null    object\n",
      " 3   date             696 non-null    object\n",
      " 4   team1            696 non-null    object\n",
      " 5   team2            696 non-null    object\n",
      " 6   toss_winner      696 non-null    object\n",
      " 7   toss_decision    696 non-null    object\n",
      " 8   result           696 non-null    object\n",
      " 9   dl_applied       696 non-null    int64 \n",
      " 10  winner           693 non-null    object\n",
      " 11  win_by_runs      696 non-null    int64 \n",
      " 12  win_by_wickets   696 non-null    int64 \n",
      " 13  player_of_match  693 non-null    object\n",
      " 14  venue            696 non-null    object\n",
      " 15  umpire1          695 non-null    object\n",
      " 16  umpire2          695 non-null    object\n",
      " 17  umpire3          60 non-null     object\n",
      "dtypes: int64(5), object(13)\n",
      "memory usage: 98.0+ KB\n"
     ]
    }
   ],
   "source": [
    "matches.info()"
   ]
  },
  {
   "cell_type": "code",
   "execution_count": 25,
   "metadata": {},
   "outputs": [
    {
     "data": {
      "text/html": [
       "<div>\n",
       "<style scoped>\n",
       "    .dataframe tbody tr th:only-of-type {\n",
       "        vertical-align: middle;\n",
       "    }\n",
       "\n",
       "    .dataframe tbody tr th {\n",
       "        vertical-align: top;\n",
       "    }\n",
       "\n",
       "    .dataframe thead th {\n",
       "        text-align: right;\n",
       "    }\n",
       "</style>\n",
       "<table border=\"1\" class=\"dataframe\">\n",
       "  <thead>\n",
       "    <tr style=\"text-align: right;\">\n",
       "      <th></th>\n",
       "      <th>id</th>\n",
       "      <th>season</th>\n",
       "      <th>city</th>\n",
       "      <th>date</th>\n",
       "      <th>team1</th>\n",
       "      <th>team2</th>\n",
       "      <th>toss_winner</th>\n",
       "      <th>toss_decision</th>\n",
       "      <th>result</th>\n",
       "      <th>dl_applied</th>\n",
       "      <th>winner</th>\n",
       "      <th>win_by_runs</th>\n",
       "      <th>win_by_wickets</th>\n",
       "      <th>player_of_match</th>\n",
       "      <th>venue</th>\n",
       "      <th>umpire1</th>\n",
       "      <th>umpire2</th>\n",
       "      <th>umpire3</th>\n",
       "    </tr>\n",
       "  </thead>\n",
       "  <tbody>\n",
       "    <tr>\n",
       "      <th>0</th>\n",
       "      <td>1</td>\n",
       "      <td>2017</td>\n",
       "      <td>Hyderabad</td>\n",
       "      <td>2017-04-05</td>\n",
       "      <td>Sunrisers Hyderabad</td>\n",
       "      <td>Royal Challengers Bangalore</td>\n",
       "      <td>Royal Challengers Bangalore</td>\n",
       "      <td>field</td>\n",
       "      <td>normal</td>\n",
       "      <td>0</td>\n",
       "      <td>Sunrisers Hyderabad</td>\n",
       "      <td>35</td>\n",
       "      <td>0</td>\n",
       "      <td>Yuvraj Singh</td>\n",
       "      <td>Rajiv Gandhi International Stadium, Uppal</td>\n",
       "      <td>AY Dandekar</td>\n",
       "      <td>NJ Llong</td>\n",
       "      <td>NaN</td>\n",
       "    </tr>\n",
       "    <tr>\n",
       "      <th>1</th>\n",
       "      <td>2</td>\n",
       "      <td>2017</td>\n",
       "      <td>Pune</td>\n",
       "      <td>2017-04-06</td>\n",
       "      <td>Mumbai Indians</td>\n",
       "      <td>Rising Pune Supergiant</td>\n",
       "      <td>Rising Pune Supergiant</td>\n",
       "      <td>field</td>\n",
       "      <td>normal</td>\n",
       "      <td>0</td>\n",
       "      <td>Rising Pune Supergiant</td>\n",
       "      <td>0</td>\n",
       "      <td>7</td>\n",
       "      <td>SPD Smith</td>\n",
       "      <td>Maharashtra Cricket Association Stadium</td>\n",
       "      <td>A Nand Kishore</td>\n",
       "      <td>S Ravi</td>\n",
       "      <td>NaN</td>\n",
       "    </tr>\n",
       "    <tr>\n",
       "      <th>2</th>\n",
       "      <td>3</td>\n",
       "      <td>2017</td>\n",
       "      <td>Rajkot</td>\n",
       "      <td>2017-04-07</td>\n",
       "      <td>Gujarat Lions</td>\n",
       "      <td>Kolkata Knight Riders</td>\n",
       "      <td>Kolkata Knight Riders</td>\n",
       "      <td>field</td>\n",
       "      <td>normal</td>\n",
       "      <td>0</td>\n",
       "      <td>Kolkata Knight Riders</td>\n",
       "      <td>0</td>\n",
       "      <td>10</td>\n",
       "      <td>CA Lynn</td>\n",
       "      <td>Saurashtra Cricket Association Stadium</td>\n",
       "      <td>Nitin Menon</td>\n",
       "      <td>CK Nandan</td>\n",
       "      <td>NaN</td>\n",
       "    </tr>\n",
       "    <tr>\n",
       "      <th>3</th>\n",
       "      <td>4</td>\n",
       "      <td>2017</td>\n",
       "      <td>Indore</td>\n",
       "      <td>2017-04-08</td>\n",
       "      <td>Rising Pune Supergiant</td>\n",
       "      <td>Kings XI Punjab</td>\n",
       "      <td>Kings XI Punjab</td>\n",
       "      <td>field</td>\n",
       "      <td>normal</td>\n",
       "      <td>0</td>\n",
       "      <td>Kings XI Punjab</td>\n",
       "      <td>0</td>\n",
       "      <td>6</td>\n",
       "      <td>GJ Maxwell</td>\n",
       "      <td>Holkar Cricket Stadium</td>\n",
       "      <td>AK Chaudhary</td>\n",
       "      <td>C Shamshuddin</td>\n",
       "      <td>NaN</td>\n",
       "    </tr>\n",
       "    <tr>\n",
       "      <th>4</th>\n",
       "      <td>5</td>\n",
       "      <td>2017</td>\n",
       "      <td>Bangalore</td>\n",
       "      <td>2017-04-08</td>\n",
       "      <td>Royal Challengers Bangalore</td>\n",
       "      <td>Delhi Daredevils</td>\n",
       "      <td>Royal Challengers Bangalore</td>\n",
       "      <td>bat</td>\n",
       "      <td>normal</td>\n",
       "      <td>0</td>\n",
       "      <td>Royal Challengers Bangalore</td>\n",
       "      <td>15</td>\n",
       "      <td>0</td>\n",
       "      <td>KM Jadhav</td>\n",
       "      <td>M Chinnaswamy Stadium</td>\n",
       "      <td>NaN</td>\n",
       "      <td>NaN</td>\n",
       "      <td>NaN</td>\n",
       "    </tr>\n",
       "  </tbody>\n",
       "</table>\n",
       "</div>"
      ],
      "text/plain": [
       "   id  season       city        date                        team1  \\\n",
       "0   1    2017  Hyderabad  2017-04-05          Sunrisers Hyderabad   \n",
       "1   2    2017       Pune  2017-04-06               Mumbai Indians   \n",
       "2   3    2017     Rajkot  2017-04-07                Gujarat Lions   \n",
       "3   4    2017     Indore  2017-04-08       Rising Pune Supergiant   \n",
       "4   5    2017  Bangalore  2017-04-08  Royal Challengers Bangalore   \n",
       "\n",
       "                         team2                  toss_winner toss_decision  \\\n",
       "0  Royal Challengers Bangalore  Royal Challengers Bangalore         field   \n",
       "1       Rising Pune Supergiant       Rising Pune Supergiant         field   \n",
       "2        Kolkata Knight Riders        Kolkata Knight Riders         field   \n",
       "3              Kings XI Punjab              Kings XI Punjab         field   \n",
       "4             Delhi Daredevils  Royal Challengers Bangalore           bat   \n",
       "\n",
       "   result  dl_applied                       winner  win_by_runs  \\\n",
       "0  normal           0          Sunrisers Hyderabad           35   \n",
       "1  normal           0       Rising Pune Supergiant            0   \n",
       "2  normal           0        Kolkata Knight Riders            0   \n",
       "3  normal           0              Kings XI Punjab            0   \n",
       "4  normal           0  Royal Challengers Bangalore           15   \n",
       "\n",
       "   win_by_wickets player_of_match                                      venue  \\\n",
       "0               0    Yuvraj Singh  Rajiv Gandhi International Stadium, Uppal   \n",
       "1               7       SPD Smith    Maharashtra Cricket Association Stadium   \n",
       "2              10         CA Lynn     Saurashtra Cricket Association Stadium   \n",
       "3               6      GJ Maxwell                     Holkar Cricket Stadium   \n",
       "4               0       KM Jadhav                      M Chinnaswamy Stadium   \n",
       "\n",
       "          umpire1        umpire2 umpire3  \n",
       "0     AY Dandekar       NJ Llong     NaN  \n",
       "1  A Nand Kishore         S Ravi     NaN  \n",
       "2     Nitin Menon      CK Nandan     NaN  \n",
       "3    AK Chaudhary  C Shamshuddin     NaN  \n",
       "4             NaN            NaN     NaN  "
      ]
     },
     "execution_count": 25,
     "metadata": {},
     "output_type": "execute_result"
    }
   ],
   "source": [
    "matches.head()"
   ]
  },
  {
   "cell_type": "markdown",
   "metadata": {},
   "source": [
    "- Since **date** is not relevant and does not provide any additional insights for our analysis, we will drop this column\n",
    "- **umpire1, umpire2 and umpire3** can also be dropped for same reason.\n"
   ]
  },
  {
   "cell_type": "code",
   "execution_count": 26,
   "metadata": {},
   "outputs": [],
   "source": [
    "matches.drop(['date', 'umpire1', 'umpire2', 'umpire3'], axis=1, inplace=True)"
   ]
  },
  {
   "cell_type": "code",
   "execution_count": 45,
   "metadata": {},
   "outputs": [],
   "source": [
    "# set id as the index column\n",
    "matches.set_index('id', inplace=True)"
   ]
  },
  {
   "cell_type": "code",
   "execution_count": 46,
   "metadata": {
    "scrolled": false
   },
   "outputs": [
    {
     "data": {
      "text/html": [
       "<div>\n",
       "<style scoped>\n",
       "    .dataframe tbody tr th:only-of-type {\n",
       "        vertical-align: middle;\n",
       "    }\n",
       "\n",
       "    .dataframe tbody tr th {\n",
       "        vertical-align: top;\n",
       "    }\n",
       "\n",
       "    .dataframe thead th {\n",
       "        text-align: right;\n",
       "    }\n",
       "</style>\n",
       "<table border=\"1\" class=\"dataframe\">\n",
       "  <thead>\n",
       "    <tr style=\"text-align: right;\">\n",
       "      <th></th>\n",
       "      <th>season</th>\n",
       "      <th>city</th>\n",
       "      <th>team1</th>\n",
       "      <th>team2</th>\n",
       "      <th>toss_winner</th>\n",
       "      <th>toss_decision</th>\n",
       "      <th>result</th>\n",
       "      <th>dl_applied</th>\n",
       "      <th>winner</th>\n",
       "      <th>win_by_runs</th>\n",
       "      <th>win_by_wickets</th>\n",
       "      <th>player_of_match</th>\n",
       "      <th>venue</th>\n",
       "    </tr>\n",
       "    <tr>\n",
       "      <th>id</th>\n",
       "      <th></th>\n",
       "      <th></th>\n",
       "      <th></th>\n",
       "      <th></th>\n",
       "      <th></th>\n",
       "      <th></th>\n",
       "      <th></th>\n",
       "      <th></th>\n",
       "      <th></th>\n",
       "      <th></th>\n",
       "      <th></th>\n",
       "      <th></th>\n",
       "      <th></th>\n",
       "    </tr>\n",
       "  </thead>\n",
       "  <tbody>\n",
       "    <tr>\n",
       "      <th>1</th>\n",
       "      <td>2017</td>\n",
       "      <td>Hyderabad</td>\n",
       "      <td>Sunrisers Hyderabad</td>\n",
       "      <td>Royal Challengers Bangalore</td>\n",
       "      <td>Royal Challengers Bangalore</td>\n",
       "      <td>field</td>\n",
       "      <td>normal</td>\n",
       "      <td>0</td>\n",
       "      <td>Sunrisers Hyderabad</td>\n",
       "      <td>35</td>\n",
       "      <td>0</td>\n",
       "      <td>Yuvraj Singh</td>\n",
       "      <td>Rajiv Gandhi International Stadium, Uppal</td>\n",
       "    </tr>\n",
       "    <tr>\n",
       "      <th>2</th>\n",
       "      <td>2017</td>\n",
       "      <td>Pune</td>\n",
       "      <td>Mumbai Indians</td>\n",
       "      <td>Rising Pune Supergiant</td>\n",
       "      <td>Rising Pune Supergiant</td>\n",
       "      <td>field</td>\n",
       "      <td>normal</td>\n",
       "      <td>0</td>\n",
       "      <td>Rising Pune Supergiant</td>\n",
       "      <td>0</td>\n",
       "      <td>7</td>\n",
       "      <td>SPD Smith</td>\n",
       "      <td>Maharashtra Cricket Association Stadium</td>\n",
       "    </tr>\n",
       "    <tr>\n",
       "      <th>3</th>\n",
       "      <td>2017</td>\n",
       "      <td>Rajkot</td>\n",
       "      <td>Gujarat Lions</td>\n",
       "      <td>Kolkata Knight Riders</td>\n",
       "      <td>Kolkata Knight Riders</td>\n",
       "      <td>field</td>\n",
       "      <td>normal</td>\n",
       "      <td>0</td>\n",
       "      <td>Kolkata Knight Riders</td>\n",
       "      <td>0</td>\n",
       "      <td>10</td>\n",
       "      <td>CA Lynn</td>\n",
       "      <td>Saurashtra Cricket Association Stadium</td>\n",
       "    </tr>\n",
       "    <tr>\n",
       "      <th>4</th>\n",
       "      <td>2017</td>\n",
       "      <td>Indore</td>\n",
       "      <td>Rising Pune Supergiant</td>\n",
       "      <td>Kings XI Punjab</td>\n",
       "      <td>Kings XI Punjab</td>\n",
       "      <td>field</td>\n",
       "      <td>normal</td>\n",
       "      <td>0</td>\n",
       "      <td>Kings XI Punjab</td>\n",
       "      <td>0</td>\n",
       "      <td>6</td>\n",
       "      <td>GJ Maxwell</td>\n",
       "      <td>Holkar Cricket Stadium</td>\n",
       "    </tr>\n",
       "    <tr>\n",
       "      <th>5</th>\n",
       "      <td>2017</td>\n",
       "      <td>Bangalore</td>\n",
       "      <td>Royal Challengers Bangalore</td>\n",
       "      <td>Delhi Daredevils</td>\n",
       "      <td>Royal Challengers Bangalore</td>\n",
       "      <td>bat</td>\n",
       "      <td>normal</td>\n",
       "      <td>0</td>\n",
       "      <td>Royal Challengers Bangalore</td>\n",
       "      <td>15</td>\n",
       "      <td>0</td>\n",
       "      <td>KM Jadhav</td>\n",
       "      <td>M Chinnaswamy Stadium</td>\n",
       "    </tr>\n",
       "  </tbody>\n",
       "</table>\n",
       "</div>"
      ],
      "text/plain": [
       "    season       city                        team1  \\\n",
       "id                                                   \n",
       "1     2017  Hyderabad          Sunrisers Hyderabad   \n",
       "2     2017       Pune               Mumbai Indians   \n",
       "3     2017     Rajkot                Gujarat Lions   \n",
       "4     2017     Indore       Rising Pune Supergiant   \n",
       "5     2017  Bangalore  Royal Challengers Bangalore   \n",
       "\n",
       "                          team2                  toss_winner toss_decision  \\\n",
       "id                                                                           \n",
       "1   Royal Challengers Bangalore  Royal Challengers Bangalore         field   \n",
       "2        Rising Pune Supergiant       Rising Pune Supergiant         field   \n",
       "3         Kolkata Knight Riders        Kolkata Knight Riders         field   \n",
       "4               Kings XI Punjab              Kings XI Punjab         field   \n",
       "5              Delhi Daredevils  Royal Challengers Bangalore           bat   \n",
       "\n",
       "    result  dl_applied                       winner  win_by_runs  \\\n",
       "id                                                                 \n",
       "1   normal           0          Sunrisers Hyderabad           35   \n",
       "2   normal           0       Rising Pune Supergiant            0   \n",
       "3   normal           0        Kolkata Knight Riders            0   \n",
       "4   normal           0              Kings XI Punjab            0   \n",
       "5   normal           0  Royal Challengers Bangalore           15   \n",
       "\n",
       "    win_by_wickets player_of_match                                      venue  \n",
       "id                                                                             \n",
       "1                0    Yuvraj Singh  Rajiv Gandhi International Stadium, Uppal  \n",
       "2                7       SPD Smith    Maharashtra Cricket Association Stadium  \n",
       "3               10         CA Lynn     Saurashtra Cricket Association Stadium  \n",
       "4                6      GJ Maxwell                     Holkar Cricket Stadium  \n",
       "5                0       KM Jadhav                      M Chinnaswamy Stadium  "
      ]
     },
     "execution_count": 46,
     "metadata": {},
     "output_type": "execute_result"
    }
   ],
   "source": [
    "matches.head()"
   ]
  },
  {
   "cell_type": "markdown",
   "metadata": {},
   "source": [
    "**deliveries**"
   ]
  },
  {
   "cell_type": "code",
   "execution_count": 12,
   "metadata": {
    "scrolled": false
   },
   "outputs": [
    {
     "data": {
      "text/plain": [
       "(164750, 21)"
      ]
     },
     "execution_count": 12,
     "metadata": {},
     "output_type": "execute_result"
    }
   ],
   "source": [
    "deliveries.shape"
   ]
  },
  {
   "cell_type": "markdown",
   "metadata": {},
   "source": [
    "There are 1,64,750 rows and 21 columns in the deliveries dataset"
   ]
  },
  {
   "cell_type": "markdown",
   "metadata": {},
   "source": [
    "###### View the different datatypes in datasets######"
   ]
  },
  {
   "cell_type": "code",
   "execution_count": 19,
   "metadata": {
    "scrolled": false
   },
   "outputs": [
    {
     "name": "stdout",
     "output_type": "stream",
     "text": [
      "<class 'pandas.core.frame.DataFrame'>\n",
      "RangeIndex: 164750 entries, 0 to 164749\n",
      "Data columns (total 21 columns):\n",
      " #   Column            Non-Null Count   Dtype \n",
      "---  ------            --------------   ----- \n",
      " 0   match_id          164750 non-null  int64 \n",
      " 1   inning            164750 non-null  int64 \n",
      " 2   batting_team      164750 non-null  object\n",
      " 3   bowling_team      164750 non-null  object\n",
      " 4   over              164750 non-null  int64 \n",
      " 5   ball              164750 non-null  int64 \n",
      " 6   batsman           164750 non-null  object\n",
      " 7   non_striker       164750 non-null  object\n",
      " 8   bowler            164750 non-null  object\n",
      " 9   is_super_over     164750 non-null  int64 \n",
      " 10  wide_runs         164750 non-null  int64 \n",
      " 11  bye_runs          164750 non-null  int64 \n",
      " 12  legbye_runs       164750 non-null  int64 \n",
      " 13  noball_runs       164750 non-null  int64 \n",
      " 14  penalty_runs      164750 non-null  int64 \n",
      " 15  batsman_runs      164750 non-null  int64 \n",
      " 16  extra_runs        164750 non-null  int64 \n",
      " 17  total_runs        164750 non-null  int64 \n",
      " 18  player_dismissed  8157 non-null    object\n",
      " 19  dismissal_kind    8157 non-null    object\n",
      " 20  fielder           5918 non-null    object\n",
      "dtypes: int64(13), object(8)\n",
      "memory usage: 26.4+ MB\n"
     ]
    }
   ],
   "source": [
    "deliveries.info()"
   ]
  },
  {
   "cell_type": "code",
   "execution_count": 47,
   "metadata": {},
   "outputs": [],
   "source": [
    "# set match_id as the index column\n",
    "deliveries.set_index('match_id', inplace=True)"
   ]
  },
  {
   "cell_type": "code",
   "execution_count": 48,
   "metadata": {
    "scrolled": false
   },
   "outputs": [
    {
     "data": {
      "text/html": [
       "<div>\n",
       "<style scoped>\n",
       "    .dataframe tbody tr th:only-of-type {\n",
       "        vertical-align: middle;\n",
       "    }\n",
       "\n",
       "    .dataframe tbody tr th {\n",
       "        vertical-align: top;\n",
       "    }\n",
       "\n",
       "    .dataframe thead th {\n",
       "        text-align: right;\n",
       "    }\n",
       "</style>\n",
       "<table border=\"1\" class=\"dataframe\">\n",
       "  <thead>\n",
       "    <tr style=\"text-align: right;\">\n",
       "      <th></th>\n",
       "      <th>inning</th>\n",
       "      <th>batting_team</th>\n",
       "      <th>bowling_team</th>\n",
       "      <th>over</th>\n",
       "      <th>ball</th>\n",
       "      <th>batsman</th>\n",
       "      <th>non_striker</th>\n",
       "      <th>bowler</th>\n",
       "      <th>is_super_over</th>\n",
       "      <th>wide_runs</th>\n",
       "      <th>bye_runs</th>\n",
       "      <th>legbye_runs</th>\n",
       "      <th>noball_runs</th>\n",
       "      <th>penalty_runs</th>\n",
       "      <th>batsman_runs</th>\n",
       "      <th>extra_runs</th>\n",
       "      <th>total_runs</th>\n",
       "      <th>player_dismissed</th>\n",
       "      <th>dismissal_kind</th>\n",
       "      <th>fielder</th>\n",
       "    </tr>\n",
       "    <tr>\n",
       "      <th>match_id</th>\n",
       "      <th></th>\n",
       "      <th></th>\n",
       "      <th></th>\n",
       "      <th></th>\n",
       "      <th></th>\n",
       "      <th></th>\n",
       "      <th></th>\n",
       "      <th></th>\n",
       "      <th></th>\n",
       "      <th></th>\n",
       "      <th></th>\n",
       "      <th></th>\n",
       "      <th></th>\n",
       "      <th></th>\n",
       "      <th></th>\n",
       "      <th></th>\n",
       "      <th></th>\n",
       "      <th></th>\n",
       "      <th></th>\n",
       "      <th></th>\n",
       "    </tr>\n",
       "  </thead>\n",
       "  <tbody>\n",
       "    <tr>\n",
       "      <th>1</th>\n",
       "      <td>1</td>\n",
       "      <td>Sunrisers Hyderabad</td>\n",
       "      <td>Royal Challengers Bangalore</td>\n",
       "      <td>1</td>\n",
       "      <td>1</td>\n",
       "      <td>DA Warner</td>\n",
       "      <td>S Dhawan</td>\n",
       "      <td>TS Mills</td>\n",
       "      <td>0</td>\n",
       "      <td>0</td>\n",
       "      <td>0</td>\n",
       "      <td>0</td>\n",
       "      <td>0</td>\n",
       "      <td>0</td>\n",
       "      <td>0</td>\n",
       "      <td>0</td>\n",
       "      <td>0</td>\n",
       "      <td>NaN</td>\n",
       "      <td>NaN</td>\n",
       "      <td>NaN</td>\n",
       "    </tr>\n",
       "    <tr>\n",
       "      <th>1</th>\n",
       "      <td>1</td>\n",
       "      <td>Sunrisers Hyderabad</td>\n",
       "      <td>Royal Challengers Bangalore</td>\n",
       "      <td>1</td>\n",
       "      <td>2</td>\n",
       "      <td>DA Warner</td>\n",
       "      <td>S Dhawan</td>\n",
       "      <td>TS Mills</td>\n",
       "      <td>0</td>\n",
       "      <td>0</td>\n",
       "      <td>0</td>\n",
       "      <td>0</td>\n",
       "      <td>0</td>\n",
       "      <td>0</td>\n",
       "      <td>0</td>\n",
       "      <td>0</td>\n",
       "      <td>0</td>\n",
       "      <td>NaN</td>\n",
       "      <td>NaN</td>\n",
       "      <td>NaN</td>\n",
       "    </tr>\n",
       "    <tr>\n",
       "      <th>1</th>\n",
       "      <td>1</td>\n",
       "      <td>Sunrisers Hyderabad</td>\n",
       "      <td>Royal Challengers Bangalore</td>\n",
       "      <td>1</td>\n",
       "      <td>3</td>\n",
       "      <td>DA Warner</td>\n",
       "      <td>S Dhawan</td>\n",
       "      <td>TS Mills</td>\n",
       "      <td>0</td>\n",
       "      <td>0</td>\n",
       "      <td>0</td>\n",
       "      <td>0</td>\n",
       "      <td>0</td>\n",
       "      <td>0</td>\n",
       "      <td>4</td>\n",
       "      <td>0</td>\n",
       "      <td>4</td>\n",
       "      <td>NaN</td>\n",
       "      <td>NaN</td>\n",
       "      <td>NaN</td>\n",
       "    </tr>\n",
       "    <tr>\n",
       "      <th>1</th>\n",
       "      <td>1</td>\n",
       "      <td>Sunrisers Hyderabad</td>\n",
       "      <td>Royal Challengers Bangalore</td>\n",
       "      <td>1</td>\n",
       "      <td>4</td>\n",
       "      <td>DA Warner</td>\n",
       "      <td>S Dhawan</td>\n",
       "      <td>TS Mills</td>\n",
       "      <td>0</td>\n",
       "      <td>0</td>\n",
       "      <td>0</td>\n",
       "      <td>0</td>\n",
       "      <td>0</td>\n",
       "      <td>0</td>\n",
       "      <td>0</td>\n",
       "      <td>0</td>\n",
       "      <td>0</td>\n",
       "      <td>NaN</td>\n",
       "      <td>NaN</td>\n",
       "      <td>NaN</td>\n",
       "    </tr>\n",
       "    <tr>\n",
       "      <th>1</th>\n",
       "      <td>1</td>\n",
       "      <td>Sunrisers Hyderabad</td>\n",
       "      <td>Royal Challengers Bangalore</td>\n",
       "      <td>1</td>\n",
       "      <td>5</td>\n",
       "      <td>DA Warner</td>\n",
       "      <td>S Dhawan</td>\n",
       "      <td>TS Mills</td>\n",
       "      <td>0</td>\n",
       "      <td>2</td>\n",
       "      <td>0</td>\n",
       "      <td>0</td>\n",
       "      <td>0</td>\n",
       "      <td>0</td>\n",
       "      <td>0</td>\n",
       "      <td>2</td>\n",
       "      <td>2</td>\n",
       "      <td>NaN</td>\n",
       "      <td>NaN</td>\n",
       "      <td>NaN</td>\n",
       "    </tr>\n",
       "  </tbody>\n",
       "</table>\n",
       "</div>"
      ],
      "text/plain": [
       "          inning         batting_team                 bowling_team  over  \\\n",
       "match_id                                                                   \n",
       "1              1  Sunrisers Hyderabad  Royal Challengers Bangalore     1   \n",
       "1              1  Sunrisers Hyderabad  Royal Challengers Bangalore     1   \n",
       "1              1  Sunrisers Hyderabad  Royal Challengers Bangalore     1   \n",
       "1              1  Sunrisers Hyderabad  Royal Challengers Bangalore     1   \n",
       "1              1  Sunrisers Hyderabad  Royal Challengers Bangalore     1   \n",
       "\n",
       "          ball    batsman non_striker    bowler  is_super_over  wide_runs  \\\n",
       "match_id                                                                    \n",
       "1            1  DA Warner    S Dhawan  TS Mills              0          0   \n",
       "1            2  DA Warner    S Dhawan  TS Mills              0          0   \n",
       "1            3  DA Warner    S Dhawan  TS Mills              0          0   \n",
       "1            4  DA Warner    S Dhawan  TS Mills              0          0   \n",
       "1            5  DA Warner    S Dhawan  TS Mills              0          2   \n",
       "\n",
       "          bye_runs  legbye_runs  noball_runs  penalty_runs  batsman_runs  \\\n",
       "match_id                                                                   \n",
       "1                0            0            0             0             0   \n",
       "1                0            0            0             0             0   \n",
       "1                0            0            0             0             4   \n",
       "1                0            0            0             0             0   \n",
       "1                0            0            0             0             0   \n",
       "\n",
       "          extra_runs  total_runs player_dismissed dismissal_kind fielder  \n",
       "match_id                                                                  \n",
       "1                  0           0              NaN            NaN     NaN  \n",
       "1                  0           0              NaN            NaN     NaN  \n",
       "1                  0           4              NaN            NaN     NaN  \n",
       "1                  0           0              NaN            NaN     NaN  \n",
       "1                  2           2              NaN            NaN     NaN  "
      ]
     },
     "execution_count": 48,
     "metadata": {},
     "output_type": "execute_result"
    }
   ],
   "source": [
    "deliveries.head()"
   ]
  },
  {
   "cell_type": "markdown",
   "metadata": {},
   "source": [
    "###### Data Cleaning"
   ]
  },
  {
   "cell_type": "code",
   "execution_count": 137,
   "metadata": {},
   "outputs": [],
   "source": [
    "#Replacing the Full names by short names\n",
    "matches.replace(['Mumbai Indians','Kolkata Knight Riders','Royal Challengers Bangalore','Deccan Chargers','Chennai Super Kings',\n",
    "                 'Rajasthan Royals','Delhi Daredevils','Gujarat Lions','Kings XI Punjab',\n",
    "                 'Sunrisers Hyderabad','Rising Pune Supergiants','Kochi Tuskers Kerala','Pune Warriors','Rising Pune Supergiant']\n",
    "                ,['MI','KKR','RCB','DC','CSK','RR','DD','GL','KXIP','SRH','RPS','KTK','PW','RPS'],inplace=True)"
   ]
  },
  {
   "cell_type": "code",
   "execution_count": 138,
   "metadata": {},
   "outputs": [],
   "source": [
    "#Replacing the Full names by short names\n",
    "deliveries.replace(['Mumbai Indians','Kolkata Knight Riders','Royal Challengers Bangalore','Deccan Chargers','Chennai Super Kings',\n",
    "                 'Rajasthan Royals','Delhi Daredevils','Gujarat Lions','Kings XI Punjab',\n",
    "                 'Sunrisers Hyderabad','Rising Pune Supergiants','Kochi Tuskers Kerala','Pune Warriors','Rising Pune Supergiant']\n",
    "                ,['MI','KKR','RCB','DC','CSK','RR','DD','GL','KXIP','SRH','RPS','KTK','PW','RPS'],inplace=True)"
   ]
  },
  {
   "cell_type": "markdown",
   "metadata": {},
   "source": [
    "**Rising Pune Supergiant** is 2 times in the dataset one with name **Rising Pune Supergiant** and other as **Rising Pune Supergiants**, we replaced both with **RPS**"
   ]
  },
  {
   "cell_type": "markdown",
   "metadata": {},
   "source": [
    "---\n",
    "<a name = Section7></a>\n",
    "# **7. Exploratory Data Analysis**\n",
    "---\n",
    "**Exploratory Data Analysis(EDA)** is an **approach to analyzing data sets** to **summarize** their **main characteristics**, often with **visual methods**. \n",
    "\n",
    "\n",
    "- It includes **cleaning, munging, combining, reshaping, slicing, dicing, and transforming data** for **analysis** purpose.\n",
    "\n",
    "\n",
    "- The **primary goal of EDA** is to **maximize the analyst's insight into a data set** and into the **underlying structure of a data set**, while **providing all of the specific items** that an **analyst would want to extract from a data set**."
   ]
  },
  {
   "cell_type": "markdown",
   "metadata": {},
   "source": [
    "<a name = Section71></a>\n",
    "### **7.1 Generic Stats**"
   ]
  },
  {
   "cell_type": "markdown",
   "metadata": {},
   "source": [
    "######  7.1.1 How many seasons we’ve got in the dataset?"
   ]
  },
  {
   "cell_type": "code",
   "execution_count": 140,
   "metadata": {},
   "outputs": [
    {
     "data": {
      "text/plain": [
       "11"
      ]
     },
     "execution_count": 140,
     "metadata": {},
     "output_type": "execute_result"
    }
   ],
   "source": [
    "matches['season'].nunique()"
   ]
  },
  {
   "cell_type": "code",
   "execution_count": 141,
   "metadata": {},
   "outputs": [
    {
     "data": {
      "text/plain": [
       "array([2017, 2008, 2009, 2010, 2011, 2012, 2013, 2014, 2015, 2016, 2018],\n",
       "      dtype=int64)"
      ]
     },
     "execution_count": 141,
     "metadata": {},
     "output_type": "execute_result"
    }
   ],
   "source": [
    "matches['season'].unique()"
   ]
  },
  {
   "cell_type": "code",
   "execution_count": 142,
   "metadata": {},
   "outputs": [
    {
     "data": {
      "text/plain": [
       "2008"
      ]
     },
     "execution_count": 142,
     "metadata": {},
     "output_type": "execute_result"
    }
   ],
   "source": [
    "matches['season'].min()"
   ]
  },
  {
   "cell_type": "code",
   "execution_count": 143,
   "metadata": {},
   "outputs": [
    {
     "data": {
      "text/plain": [
       "2018"
      ]
     },
     "execution_count": 143,
     "metadata": {},
     "output_type": "execute_result"
    }
   ],
   "source": [
    "matches['season'].max()"
   ]
  },
  {
   "cell_type": "markdown",
   "metadata": {},
   "source": [
    "- There are 11 seasons from 2008 to 2018"
   ]
  },
  {
   "cell_type": "markdown",
   "metadata": {},
   "source": [
    "######  7.1.2 How many matches we’ve got in the dataset?"
   ]
  },
  {
   "cell_type": "code",
   "execution_count": 144,
   "metadata": {},
   "outputs": [
    {
     "data": {
      "text/plain": [
       "696"
      ]
     },
     "execution_count": 144,
     "metadata": {},
     "output_type": "execute_result"
    }
   ],
   "source": [
    "len(matches)"
   ]
  },
  {
   "cell_type": "markdown",
   "metadata": {},
   "source": [
    "- Total 696 matches were played in the IPL season from 2008 to 2018"
   ]
  },
  {
   "cell_type": "markdown",
   "metadata": {},
   "source": [
    "######  7.1.3 How many matches were played in each season"
   ]
  },
  {
   "cell_type": "code",
   "execution_count": 145,
   "metadata": {
    "scrolled": true
   },
   "outputs": [
    {
     "data": {
      "text/html": [
       "<div>\n",
       "<style scoped>\n",
       "    .dataframe tbody tr th:only-of-type {\n",
       "        vertical-align: middle;\n",
       "    }\n",
       "\n",
       "    .dataframe tbody tr th {\n",
       "        vertical-align: top;\n",
       "    }\n",
       "\n",
       "    .dataframe thead th {\n",
       "        text-align: right;\n",
       "    }\n",
       "</style>\n",
       "<table border=\"1\" class=\"dataframe\">\n",
       "  <thead>\n",
       "    <tr style=\"text-align: right;\">\n",
       "      <th></th>\n",
       "      <th>season</th>\n",
       "    </tr>\n",
       "  </thead>\n",
       "  <tbody>\n",
       "    <tr>\n",
       "      <th>2013</th>\n",
       "      <td>76</td>\n",
       "    </tr>\n",
       "    <tr>\n",
       "      <th>2012</th>\n",
       "      <td>74</td>\n",
       "    </tr>\n",
       "    <tr>\n",
       "      <th>2011</th>\n",
       "      <td>73</td>\n",
       "    </tr>\n",
       "    <tr>\n",
       "      <th>2018</th>\n",
       "      <td>60</td>\n",
       "    </tr>\n",
       "    <tr>\n",
       "      <th>2016</th>\n",
       "      <td>60</td>\n",
       "    </tr>\n",
       "    <tr>\n",
       "      <th>2014</th>\n",
       "      <td>60</td>\n",
       "    </tr>\n",
       "    <tr>\n",
       "      <th>2010</th>\n",
       "      <td>60</td>\n",
       "    </tr>\n",
       "    <tr>\n",
       "      <th>2017</th>\n",
       "      <td>59</td>\n",
       "    </tr>\n",
       "    <tr>\n",
       "      <th>2015</th>\n",
       "      <td>59</td>\n",
       "    </tr>\n",
       "    <tr>\n",
       "      <th>2008</th>\n",
       "      <td>58</td>\n",
       "    </tr>\n",
       "    <tr>\n",
       "      <th>2009</th>\n",
       "      <td>57</td>\n",
       "    </tr>\n",
       "  </tbody>\n",
       "</table>\n",
       "</div>"
      ],
      "text/plain": [
       "      season\n",
       "2013      76\n",
       "2012      74\n",
       "2011      73\n",
       "2018      60\n",
       "2016      60\n",
       "2014      60\n",
       "2010      60\n",
       "2017      59\n",
       "2015      59\n",
       "2008      58\n",
       "2009      57"
      ]
     },
     "execution_count": 145,
     "metadata": {},
     "output_type": "execute_result"
    }
   ],
   "source": [
    "seasons = matches['season'].value_counts().to_frame()\n",
    "seasons"
   ]
  },
  {
   "cell_type": "markdown",
   "metadata": {},
   "source": [
    "- This shows that most number of matches were played in the year of 2013 (76 matches)"
   ]
  },
  {
   "cell_type": "code",
   "execution_count": 146,
   "metadata": {},
   "outputs": [
    {
     "data": {
      "text/plain": [
       "<matplotlib.axes._subplots.AxesSubplot at 0x177b37f7310>"
      ]
     },
     "execution_count": 146,
     "metadata": {},
     "output_type": "execute_result"
    },
    {
     "data": {
      "image/png": "[encoded data removed]",
      "text/plain": [
       "<Figure size 864x576 with 1 Axes>"
      ]
     },
     "metadata": {
      "needs_background": "light"
     },
     "output_type": "display_data"
    }
   ],
   "source": [
    "seasons.plot(kind=\"bar\", title=\"Number of matches per IPL seasons\", figsize=(12,8))"
   ]
  },
  {
   "cell_type": "markdown",
   "metadata": {},
   "source": [
    "###### 7.1.4 The Number of matches played in each venue?"
   ]
  },
  {
   "cell_type": "code",
   "execution_count": 278,
   "metadata": {},
   "outputs": [
    {
     "data": {
      "text/html": [
       "<div>\n",
       "<style scoped>\n",
       "    .dataframe tbody tr th:only-of-type {\n",
       "        vertical-align: middle;\n",
       "    }\n",
       "\n",
       "    .dataframe tbody tr th {\n",
       "        vertical-align: top;\n",
       "    }\n",
       "\n",
       "    .dataframe thead th {\n",
       "        text-align: right;\n",
       "    }\n",
       "</style>\n",
       "<table border=\"1\" class=\"dataframe\">\n",
       "  <thead>\n",
       "    <tr style=\"text-align: right;\">\n",
       "      <th></th>\n",
       "      <th>no_of_matches</th>\n",
       "    </tr>\n",
       "  </thead>\n",
       "  <tbody>\n",
       "    <tr>\n",
       "      <th>M Chinnaswamy Stadium</th>\n",
       "      <td>73</td>\n",
       "    </tr>\n",
       "    <tr>\n",
       "      <th>Eden Gardens</th>\n",
       "      <td>70</td>\n",
       "    </tr>\n",
       "    <tr>\n",
       "      <th>Feroz Shah Kotla</th>\n",
       "      <td>67</td>\n",
       "    </tr>\n",
       "    <tr>\n",
       "      <th>Wankhede Stadium</th>\n",
       "      <td>66</td>\n",
       "    </tr>\n",
       "    <tr>\n",
       "      <th>Rajiv Gandhi International Stadium, Uppal</th>\n",
       "      <td>56</td>\n",
       "    </tr>\n",
       "    <tr>\n",
       "      <th>MA Chidambaram Stadium, Chepauk</th>\n",
       "      <td>49</td>\n",
       "    </tr>\n",
       "    <tr>\n",
       "      <th>Sawai Mansingh Stadium</th>\n",
       "      <td>40</td>\n",
       "    </tr>\n",
       "    <tr>\n",
       "      <th>Punjab Cricket Association Stadium, Mohali</th>\n",
       "      <td>35</td>\n",
       "    </tr>\n",
       "    <tr>\n",
       "      <th>Maharashtra Cricket Association Stadium</th>\n",
       "      <td>21</td>\n",
       "    </tr>\n",
       "    <tr>\n",
       "      <th>Dr DY Patil Sports Academy</th>\n",
       "      <td>17</td>\n",
       "    </tr>\n",
       "    <tr>\n",
       "      <th>Subrata Roy Sahara Stadium</th>\n",
       "      <td>17</td>\n",
       "    </tr>\n",
       "    <tr>\n",
       "      <th>Kingsmead</th>\n",
       "      <td>15</td>\n",
       "    </tr>\n",
       "    <tr>\n",
       "      <th>Punjab Cricket Association IS Bindra Stadium, Mohali</th>\n",
       "      <td>14</td>\n",
       "    </tr>\n",
       "    <tr>\n",
       "      <th>Sardar Patel Stadium, Motera</th>\n",
       "      <td>12</td>\n",
       "    </tr>\n",
       "    <tr>\n",
       "      <th>SuperSport Park</th>\n",
       "      <td>12</td>\n",
       "    </tr>\n",
       "    <tr>\n",
       "      <th>Brabourne Stadium</th>\n",
       "      <td>11</td>\n",
       "    </tr>\n",
       "    <tr>\n",
       "      <th>Dr. Y.S. Rajasekhara Reddy ACA-VDCA Cricket Stadium</th>\n",
       "      <td>11</td>\n",
       "    </tr>\n",
       "    <tr>\n",
       "      <th>Saurashtra Cricket Association Stadium</th>\n",
       "      <td>10</td>\n",
       "    </tr>\n",
       "    <tr>\n",
       "      <th>Himachal Pradesh Cricket Association Stadium</th>\n",
       "      <td>9</td>\n",
       "    </tr>\n",
       "    <tr>\n",
       "      <th>Holkar Cricket Stadium</th>\n",
       "      <td>9</td>\n",
       "    </tr>\n",
       "    <tr>\n",
       "      <th>New Wanderers Stadium</th>\n",
       "      <td>8</td>\n",
       "    </tr>\n",
       "    <tr>\n",
       "      <th>Sheikh Zayed Stadium</th>\n",
       "      <td>7</td>\n",
       "    </tr>\n",
       "    <tr>\n",
       "      <th>St George's Park</th>\n",
       "      <td>7</td>\n",
       "    </tr>\n",
       "    <tr>\n",
       "      <th>JSCA International Stadium Complex</th>\n",
       "      <td>7</td>\n",
       "    </tr>\n",
       "    <tr>\n",
       "      <th>Barabati Stadium</th>\n",
       "      <td>7</td>\n",
       "    </tr>\n",
       "    <tr>\n",
       "      <th>Newlands</th>\n",
       "      <td>7</td>\n",
       "    </tr>\n",
       "    <tr>\n",
       "      <th>Dubai International Cricket Stadium</th>\n",
       "      <td>7</td>\n",
       "    </tr>\n",
       "    <tr>\n",
       "      <th>Shaheed Veer Narayan Singh International Stadium</th>\n",
       "      <td>6</td>\n",
       "    </tr>\n",
       "    <tr>\n",
       "      <th>Sharjah Cricket Stadium</th>\n",
       "      <td>6</td>\n",
       "    </tr>\n",
       "    <tr>\n",
       "      <th>Nehru Stadium</th>\n",
       "      <td>5</td>\n",
       "    </tr>\n",
       "    <tr>\n",
       "      <th>Green Park</th>\n",
       "      <td>4</td>\n",
       "    </tr>\n",
       "    <tr>\n",
       "      <th>Buffalo Park</th>\n",
       "      <td>3</td>\n",
       "    </tr>\n",
       "    <tr>\n",
       "      <th>Vidarbha Cricket Association Stadium, Jamtha</th>\n",
       "      <td>3</td>\n",
       "    </tr>\n",
       "    <tr>\n",
       "      <th>De Beers Diamond Oval</th>\n",
       "      <td>3</td>\n",
       "    </tr>\n",
       "    <tr>\n",
       "      <th>OUTsurance Oval</th>\n",
       "      <td>2</td>\n",
       "    </tr>\n",
       "  </tbody>\n",
       "</table>\n",
       "</div>"
      ],
      "text/plain": [
       "                                                    no_of_matches\n",
       "M Chinnaswamy Stadium                                          73\n",
       "Eden Gardens                                                   70\n",
       "Feroz Shah Kotla                                               67\n",
       "Wankhede Stadium                                               66\n",
       "Rajiv Gandhi International Stadium, Uppal                      56\n",
       "MA Chidambaram Stadium, Chepauk                                49\n",
       "Sawai Mansingh Stadium                                         40\n",
       "Punjab Cricket Association Stadium, Mohali                     35\n",
       "Maharashtra Cricket Association Stadium                        21\n",
       "Dr DY Patil Sports Academy                                     17\n",
       "Subrata Roy Sahara Stadium                                     17\n",
       "Kingsmead                                                      15\n",
       "Punjab Cricket Association IS Bindra Stadium, M...             14\n",
       "Sardar Patel Stadium, Motera                                   12\n",
       "SuperSport Park                                                12\n",
       "Brabourne Stadium                                              11\n",
       "Dr. Y.S. Rajasekhara Reddy ACA-VDCA Cricket Sta...             11\n",
       "Saurashtra Cricket Association Stadium                         10\n",
       "Himachal Pradesh Cricket Association Stadium                    9\n",
       "Holkar Cricket Stadium                                          9\n",
       "New Wanderers Stadium                                           8\n",
       "Sheikh Zayed Stadium                                            7\n",
       "St George's Park                                                7\n",
       "JSCA International Stadium Complex                              7\n",
       "Barabati Stadium                                                7\n",
       "Newlands                                                        7\n",
       "Dubai International Cricket Stadium                             7\n",
       "Shaheed Veer Narayan Singh International Stadium                6\n",
       "Sharjah Cricket Stadium                                         6\n",
       "Nehru Stadium                                                   5\n",
       "Green Park                                                      4\n",
       "Buffalo Park                                                    3\n",
       "Vidarbha Cricket Association Stadium, Jamtha                    3\n",
       "De Beers Diamond Oval                                           3\n",
       "OUTsurance Oval                                                 2"
      ]
     },
     "execution_count": 278,
     "metadata": {},
     "output_type": "execute_result"
    }
   ],
   "source": [
    "no_of_matches = matches['venue'].value_counts().to_frame()\n",
    "no_of_matches.rename(columns={'venue': 'no_of_matches'}, inplace=True)\n",
    "no_of_matches"
   ]
  },
  {
   "cell_type": "markdown",
   "metadata": {},
   "source": [
    "- M Chinnaswamy Stadium has hosted most matches (73)\n",
    "- Wankhede Stadium is the 4th in the list and hosted 66 matches\n",
    "- There were some matches played outside india as well, like in cities Kingsmead, St George's Park, etc"
   ]
  },
  {
   "cell_type": "markdown",
   "metadata": {},
   "source": [
    "###### 7.1.5 Match Winners based on Season Year for Mumbai Indians?"
   ]
  },
  {
   "cell_type": "code",
   "execution_count": 279,
   "metadata": {
    "scrolled": false
   },
   "outputs": [
    {
     "data": {
      "text/html": [
       "<div>\n",
       "<style scoped>\n",
       "    .dataframe tbody tr th:only-of-type {\n",
       "        vertical-align: middle;\n",
       "    }\n",
       "\n",
       "    .dataframe tbody tr th {\n",
       "        vertical-align: top;\n",
       "    }\n",
       "\n",
       "    .dataframe thead th {\n",
       "        text-align: right;\n",
       "    }\n",
       "</style>\n",
       "<table border=\"1\" class=\"dataframe\">\n",
       "  <thead>\n",
       "    <tr style=\"text-align: right;\">\n",
       "      <th></th>\n",
       "      <th></th>\n",
       "      <th>no_of_wins</th>\n",
       "    </tr>\n",
       "    <tr>\n",
       "      <th>season</th>\n",
       "      <th>winner</th>\n",
       "      <th></th>\n",
       "    </tr>\n",
       "  </thead>\n",
       "  <tbody>\n",
       "    <tr>\n",
       "      <th>2008</th>\n",
       "      <th>MI</th>\n",
       "      <td>7</td>\n",
       "    </tr>\n",
       "    <tr>\n",
       "      <th>2009</th>\n",
       "      <th>MI</th>\n",
       "      <td>5</td>\n",
       "    </tr>\n",
       "    <tr>\n",
       "      <th>2010</th>\n",
       "      <th>MI</th>\n",
       "      <td>11</td>\n",
       "    </tr>\n",
       "    <tr>\n",
       "      <th>2011</th>\n",
       "      <th>MI</th>\n",
       "      <td>10</td>\n",
       "    </tr>\n",
       "    <tr>\n",
       "      <th>2012</th>\n",
       "      <th>MI</th>\n",
       "      <td>10</td>\n",
       "    </tr>\n",
       "    <tr>\n",
       "      <th>2013</th>\n",
       "      <th>MI</th>\n",
       "      <td>13</td>\n",
       "    </tr>\n",
       "    <tr>\n",
       "      <th>2014</th>\n",
       "      <th>MI</th>\n",
       "      <td>7</td>\n",
       "    </tr>\n",
       "    <tr>\n",
       "      <th>2015</th>\n",
       "      <th>MI</th>\n",
       "      <td>10</td>\n",
       "    </tr>\n",
       "    <tr>\n",
       "      <th>2016</th>\n",
       "      <th>MI</th>\n",
       "      <td>7</td>\n",
       "    </tr>\n",
       "    <tr>\n",
       "      <th>2017</th>\n",
       "      <th>MI</th>\n",
       "      <td>12</td>\n",
       "    </tr>\n",
       "    <tr>\n",
       "      <th>2018</th>\n",
       "      <th>MI</th>\n",
       "      <td>6</td>\n",
       "    </tr>\n",
       "  </tbody>\n",
       "</table>\n",
       "</div>"
      ],
      "text/plain": [
       "               no_of_wins\n",
       "season winner            \n",
       "2008   MI               7\n",
       "2009   MI               5\n",
       "2010   MI              11\n",
       "2011   MI              10\n",
       "2012   MI              10\n",
       "2013   MI              13\n",
       "2014   MI               7\n",
       "2015   MI              10\n",
       "2016   MI               7\n",
       "2017   MI              12\n",
       "2018   MI               6"
      ]
     },
     "execution_count": 279,
     "metadata": {},
     "output_type": "execute_result"
    }
   ],
   "source": [
    "no_of_wins = matches[matches['winner'] == 'MI'].groupby(['season'])['winner'].value_counts().to_frame()\n",
    "no_of_wins.rename(columns={'winner': 'no_of_wins'}, inplace=True)\n",
    "no_of_wins"
   ]
  },
  {
   "cell_type": "markdown",
   "metadata": {},
   "source": [
    "###### 7.1.6 number of matches each team won till now in the IPL history."
   ]
  },
  {
   "cell_type": "code",
   "execution_count": 280,
   "metadata": {},
   "outputs": [
    {
     "data": {
      "text/html": [
       "<div>\n",
       "<style scoped>\n",
       "    .dataframe tbody tr th:only-of-type {\n",
       "        vertical-align: middle;\n",
       "    }\n",
       "\n",
       "    .dataframe tbody tr th {\n",
       "        vertical-align: top;\n",
       "    }\n",
       "\n",
       "    .dataframe thead th {\n",
       "        text-align: right;\n",
       "    }\n",
       "</style>\n",
       "<table border=\"1\" class=\"dataframe\">\n",
       "  <thead>\n",
       "    <tr style=\"text-align: right;\">\n",
       "      <th></th>\n",
       "      <th>no_of_wins_by_team</th>\n",
       "    </tr>\n",
       "  </thead>\n",
       "  <tbody>\n",
       "    <tr>\n",
       "      <th>MI</th>\n",
       "      <td>98</td>\n",
       "    </tr>\n",
       "    <tr>\n",
       "      <th>CSK</th>\n",
       "      <td>90</td>\n",
       "    </tr>\n",
       "    <tr>\n",
       "      <th>KKR</th>\n",
       "      <td>86</td>\n",
       "    </tr>\n",
       "    <tr>\n",
       "      <th>RCB</th>\n",
       "      <td>79</td>\n",
       "    </tr>\n",
       "    <tr>\n",
       "      <th>KXIP</th>\n",
       "      <td>76</td>\n",
       "    </tr>\n",
       "    <tr>\n",
       "      <th>RR</th>\n",
       "      <td>70</td>\n",
       "    </tr>\n",
       "    <tr>\n",
       "      <th>DD</th>\n",
       "      <td>67</td>\n",
       "    </tr>\n",
       "    <tr>\n",
       "      <th>SRH</th>\n",
       "      <td>52</td>\n",
       "    </tr>\n",
       "    <tr>\n",
       "      <th>DC</th>\n",
       "      <td>29</td>\n",
       "    </tr>\n",
       "    <tr>\n",
       "      <th>RPS</th>\n",
       "      <td>15</td>\n",
       "    </tr>\n",
       "    <tr>\n",
       "      <th>GL</th>\n",
       "      <td>13</td>\n",
       "    </tr>\n",
       "    <tr>\n",
       "      <th>PW</th>\n",
       "      <td>12</td>\n",
       "    </tr>\n",
       "    <tr>\n",
       "      <th>KTK</th>\n",
       "      <td>6</td>\n",
       "    </tr>\n",
       "  </tbody>\n",
       "</table>\n",
       "</div>"
      ],
      "text/plain": [
       "      no_of_wins_by_team\n",
       "MI                    98\n",
       "CSK                   90\n",
       "KKR                   86\n",
       "RCB                   79\n",
       "KXIP                  76\n",
       "RR                    70\n",
       "DD                    67\n",
       "SRH                   52\n",
       "DC                    29\n",
       "RPS                   15\n",
       "GL                    13\n",
       "PW                    12\n",
       "KTK                    6"
      ]
     },
     "execution_count": 280,
     "metadata": {},
     "output_type": "execute_result"
    }
   ],
   "source": [
    "no_of_wins_by_team = matches['winner'].sort_values().value_counts().to_frame()\n",
    "no_of_wins_by_team.rename(columns={'winner': 'no_of_wins_by_team'}, inplace=True)\n",
    "no_of_wins_by_team"
   ]
  },
  {
   "cell_type": "code",
   "execution_count": 281,
   "metadata": {},
   "outputs": [
    {
     "data": {
      "text/plain": [
       "<matplotlib.axes._subplots.AxesSubplot at 0x177b6f0e1c0>"
      ]
     },
     "execution_count": 281,
     "metadata": {},
     "output_type": "execute_result"
    },
    {
     "data": {
      "image/png": "[encoded data removed]",
      "text/plain": [
       "<Figure size 864x576 with 1 Axes>"
      ]
     },
     "metadata": {
      "needs_background": "light"
     },
     "output_type": "display_data"
    }
   ],
   "source": [
    "no_of_wins_by_team.plot(kind=\"barh\", title=\"Number of matches win in IPL\", figsize=(12,8))"
   ]
  },
  {
   "cell_type": "markdown",
   "metadata": {},
   "source": [
    "- Mumbai Indians has won most of the matches till now (98 times)"
   ]
  },
  {
   "cell_type": "markdown",
   "metadata": {},
   "source": [
    "######  7.1.5 Has Toss-winning helped in winning matches?\n",
    "Check for each team what is the winning percentage when the team won the toss"
   ]
  },
  {
   "cell_type": "code",
   "execution_count": 287,
   "metadata": {
    "scrolled": false
   },
   "outputs": [
    {
     "data": {
      "text/html": [
       "<div>\n",
       "<style scoped>\n",
       "    .dataframe tbody tr th:only-of-type {\n",
       "        vertical-align: middle;\n",
       "    }\n",
       "\n",
       "    .dataframe tbody tr th {\n",
       "        vertical-align: top;\n",
       "    }\n",
       "\n",
       "    .dataframe thead th {\n",
       "        text-align: right;\n",
       "    }\n",
       "</style>\n",
       "<table border=\"1\" class=\"dataframe\">\n",
       "  <thead>\n",
       "    <tr style=\"text-align: right;\">\n",
       "      <th></th>\n",
       "      <th>win_per_on_toss_win</th>\n",
       "    </tr>\n",
       "    <tr>\n",
       "      <th>toss_winner</th>\n",
       "      <th></th>\n",
       "    </tr>\n",
       "  </thead>\n",
       "  <tbody>\n",
       "    <tr>\n",
       "      <th>CSK</th>\n",
       "      <td>64.935065</td>\n",
       "    </tr>\n",
       "    <tr>\n",
       "      <th>DC</th>\n",
       "      <td>44.186047</td>\n",
       "    </tr>\n",
       "    <tr>\n",
       "      <th>DD</th>\n",
       "      <td>44.303797</td>\n",
       "    </tr>\n",
       "    <tr>\n",
       "      <th>GL</th>\n",
       "      <td>66.666667</td>\n",
       "    </tr>\n",
       "    <tr>\n",
       "      <th>KKR</th>\n",
       "      <td>56.321839</td>\n",
       "    </tr>\n",
       "    <tr>\n",
       "      <th>KTK</th>\n",
       "      <td>50.000000</td>\n",
       "    </tr>\n",
       "    <tr>\n",
       "      <th>KXIP</th>\n",
       "      <td>42.666667</td>\n",
       "    </tr>\n",
       "    <tr>\n",
       "      <th>MI</th>\n",
       "      <td>55.555556</td>\n",
       "    </tr>\n",
       "    <tr>\n",
       "      <th>PW</th>\n",
       "      <td>15.000000</td>\n",
       "    </tr>\n",
       "    <tr>\n",
       "      <th>RCB</th>\n",
       "      <td>51.315789</td>\n",
       "    </tr>\n",
       "    <tr>\n",
       "      <th>RPS</th>\n",
       "      <td>61.538462</td>\n",
       "    </tr>\n",
       "    <tr>\n",
       "      <th>RR</th>\n",
       "      <td>54.411765</td>\n",
       "    </tr>\n",
       "    <tr>\n",
       "      <th>SRH</th>\n",
       "      <td>50.000000</td>\n",
       "    </tr>\n",
       "  </tbody>\n",
       "</table>\n",
       "</div>"
      ],
      "text/plain": [
       "             win_per_on_toss_win\n",
       "toss_winner                     \n",
       "CSK                    64.935065\n",
       "DC                     44.186047\n",
       "DD                     44.303797\n",
       "GL                     66.666667\n",
       "KKR                    56.321839\n",
       "KTK                    50.000000\n",
       "KXIP                   42.666667\n",
       "MI                     55.555556\n",
       "PW                     15.000000\n",
       "RCB                    51.315789\n",
       "RPS                    61.538462\n",
       "RR                     54.411765\n",
       "SRH                    50.000000"
      ]
     },
     "execution_count": 287,
     "metadata": {},
     "output_type": "execute_result"
    }
   ],
   "source": [
    "toss_winner_as_winner = matches[matches['winner'] == matches['toss_winner']].groupby(['toss_winner'])['winner'].count()\n",
    "total_winner = matches.groupby(['toss_winner'])['winner'].count()\n",
    "\n",
    "win_per_on_toss_win = toss_winner_as_winner / total_winner * 100\n",
    "win_per_on_toss_win = win_per_on_toss_win.to_frame()\n",
    "win_per_on_toss_win.rename(columns={'winner': 'win_per_on_toss_win'}, inplace=True)\n",
    "win_per_on_toss_win\n"
   ]
  },
  {
   "cell_type": "markdown",
   "metadata": {},
   "source": [
    "- Mumbai Indians won only 55.5% of the matches in which they won the toss"
   ]
  },
  {
   "cell_type": "code",
   "execution_count": 202,
   "metadata": {},
   "outputs": [],
   "source": [
    "win_per_on_toss_win['lost'] = 100 - win_per_on_toss_win['winner']"
   ]
  },
  {
   "cell_type": "code",
   "execution_count": 203,
   "metadata": {},
   "outputs": [
    {
     "data": {
      "text/plain": [
       "<matplotlib.axes._subplots.AxesSubplot at 0x177b6e3ce80>"
      ]
     },
     "execution_count": 203,
     "metadata": {},
     "output_type": "execute_result"
    },
    {
     "data": {
      "image/png": "[encoded data removed]",
      "text/plain": [
       "<Figure size 1368x576 with 1 Axes>"
      ]
     },
     "metadata": {
      "needs_background": "light"
     },
     "output_type": "display_data"
    }
   ],
   "source": [
    "win_per_on_toss_win.plot.bar(figsize=(19,8), title=\"Match Winning/Losing % of a team on winning the toss\",fontsize=13,\n",
    "                                                            cmap='viridis')"
   ]
  },
  {
   "cell_type": "markdown",
   "metadata": {},
   "source": [
    "######  7.1.4 Which are the top 5 stadiums for winning by runs (atleast 10 matches should have been played on the venue)?"
   ]
  },
  {
   "cell_type": "code",
   "execution_count": 290,
   "metadata": {},
   "outputs": [
    {
     "data": {
      "text/html": [
       "<div>\n",
       "<style scoped>\n",
       "    .dataframe tbody tr th:only-of-type {\n",
       "        vertical-align: middle;\n",
       "    }\n",
       "\n",
       "    .dataframe tbody tr th {\n",
       "        vertical-align: top;\n",
       "    }\n",
       "\n",
       "    .dataframe thead th {\n",
       "        text-align: right;\n",
       "    }\n",
       "</style>\n",
       "<table border=\"1\" class=\"dataframe\">\n",
       "  <thead>\n",
       "    <tr style=\"text-align: right;\">\n",
       "      <th></th>\n",
       "      <th>no_of_matches</th>\n",
       "    </tr>\n",
       "  </thead>\n",
       "  <tbody>\n",
       "    <tr>\n",
       "      <th>M Chinnaswamy Stadium</th>\n",
       "      <td>73</td>\n",
       "    </tr>\n",
       "    <tr>\n",
       "      <th>Eden Gardens</th>\n",
       "      <td>70</td>\n",
       "    </tr>\n",
       "    <tr>\n",
       "      <th>Feroz Shah Kotla</th>\n",
       "      <td>67</td>\n",
       "    </tr>\n",
       "    <tr>\n",
       "      <th>Wankhede Stadium</th>\n",
       "      <td>66</td>\n",
       "    </tr>\n",
       "    <tr>\n",
       "      <th>Rajiv Gandhi International Stadium, Uppal</th>\n",
       "      <td>56</td>\n",
       "    </tr>\n",
       "    <tr>\n",
       "      <th>MA Chidambaram Stadium, Chepauk</th>\n",
       "      <td>49</td>\n",
       "    </tr>\n",
       "    <tr>\n",
       "      <th>Sawai Mansingh Stadium</th>\n",
       "      <td>40</td>\n",
       "    </tr>\n",
       "    <tr>\n",
       "      <th>Punjab Cricket Association Stadium, Mohali</th>\n",
       "      <td>35</td>\n",
       "    </tr>\n",
       "    <tr>\n",
       "      <th>Maharashtra Cricket Association Stadium</th>\n",
       "      <td>21</td>\n",
       "    </tr>\n",
       "    <tr>\n",
       "      <th>Dr DY Patil Sports Academy</th>\n",
       "      <td>17</td>\n",
       "    </tr>\n",
       "    <tr>\n",
       "      <th>Subrata Roy Sahara Stadium</th>\n",
       "      <td>17</td>\n",
       "    </tr>\n",
       "    <tr>\n",
       "      <th>Kingsmead</th>\n",
       "      <td>15</td>\n",
       "    </tr>\n",
       "    <tr>\n",
       "      <th>Punjab Cricket Association IS Bindra Stadium, Mohali</th>\n",
       "      <td>14</td>\n",
       "    </tr>\n",
       "    <tr>\n",
       "      <th>Sardar Patel Stadium, Motera</th>\n",
       "      <td>12</td>\n",
       "    </tr>\n",
       "    <tr>\n",
       "      <th>SuperSport Park</th>\n",
       "      <td>12</td>\n",
       "    </tr>\n",
       "    <tr>\n",
       "      <th>Brabourne Stadium</th>\n",
       "      <td>11</td>\n",
       "    </tr>\n",
       "    <tr>\n",
       "      <th>Dr. Y.S. Rajasekhara Reddy ACA-VDCA Cricket Stadium</th>\n",
       "      <td>11</td>\n",
       "    </tr>\n",
       "    <tr>\n",
       "      <th>Saurashtra Cricket Association Stadium</th>\n",
       "      <td>10</td>\n",
       "    </tr>\n",
       "  </tbody>\n",
       "</table>\n",
       "</div>"
      ],
      "text/plain": [
       "                                                    no_of_matches\n",
       "M Chinnaswamy Stadium                                          73\n",
       "Eden Gardens                                                   70\n",
       "Feroz Shah Kotla                                               67\n",
       "Wankhede Stadium                                               66\n",
       "Rajiv Gandhi International Stadium, Uppal                      56\n",
       "MA Chidambaram Stadium, Chepauk                                49\n",
       "Sawai Mansingh Stadium                                         40\n",
       "Punjab Cricket Association Stadium, Mohali                     35\n",
       "Maharashtra Cricket Association Stadium                        21\n",
       "Dr DY Patil Sports Academy                                     17\n",
       "Subrata Roy Sahara Stadium                                     17\n",
       "Kingsmead                                                      15\n",
       "Punjab Cricket Association IS Bindra Stadium, M...             14\n",
       "Sardar Patel Stadium, Motera                                   12\n",
       "SuperSport Park                                                12\n",
       "Brabourne Stadium                                              11\n",
       "Dr. Y.S. Rajasekhara Reddy ACA-VDCA Cricket Sta...             11\n",
       "Saurashtra Cricket Association Stadium                         10"
      ]
     },
     "execution_count": 290,
     "metadata": {},
     "output_type": "execute_result"
    }
   ],
   "source": [
    "atleast_10_mtch_at_venue = matches['venue'].value_counts().to_frame()\n",
    "# Venues where atleast 10 matches are played\n",
    "atleast_10_mtch_at_venue = atleast_10_mtch_at_venue[atleast_10_mtch_at_venue['venue'] >= 10]['venue'].to_frame()\n",
    "atleast_10_mtch_at_venue.rename(columns={'venue': 'no_of_matches'}, inplace=True)\n",
    "atleast_10_mtch_at_venue"
   ]
  },
  {
   "cell_type": "code",
   "execution_count": 299,
   "metadata": {},
   "outputs": [],
   "source": [
    "# Filter the matches dataset to select on matches which were played in stadiums where atleast 10 matches were played\n",
    "matches1 = matches[matches['venue'].isin(atleast_10_mtch_at_venue.index)]"
   ]
  },
  {
   "cell_type": "code",
   "execution_count": 300,
   "metadata": {},
   "outputs": [
    {
     "data": {
      "text/html": [
       "<div>\n",
       "<style scoped>\n",
       "    .dataframe tbody tr th:only-of-type {\n",
       "        vertical-align: middle;\n",
       "    }\n",
       "\n",
       "    .dataframe tbody tr th {\n",
       "        vertical-align: top;\n",
       "    }\n",
       "\n",
       "    .dataframe thead th {\n",
       "        text-align: right;\n",
       "    }\n",
       "</style>\n",
       "<table border=\"1\" class=\"dataframe\">\n",
       "  <thead>\n",
       "    <tr style=\"text-align: right;\">\n",
       "      <th></th>\n",
       "      <th>winning_percentage</th>\n",
       "    </tr>\n",
       "  </thead>\n",
       "  <tbody>\n",
       "    <tr>\n",
       "      <th>Subrata Roy Sahara Stadium</th>\n",
       "      <td>64.705882</td>\n",
       "    </tr>\n",
       "    <tr>\n",
       "      <th>Dr. Y.S. Rajasekhara Reddy ACA-VDCA Cricket Stadium</th>\n",
       "      <td>63.636364</td>\n",
       "    </tr>\n",
       "    <tr>\n",
       "      <th>MA Chidambaram Stadium, Chepauk</th>\n",
       "      <td>61.224490</td>\n",
       "    </tr>\n",
       "    <tr>\n",
       "      <th>Kingsmead</th>\n",
       "      <td>60.000000</td>\n",
       "    </tr>\n",
       "    <tr>\n",
       "      <th>Brabourne Stadium</th>\n",
       "      <td>54.545455</td>\n",
       "    </tr>\n",
       "  </tbody>\n",
       "</table>\n",
       "</div>"
      ],
      "text/plain": [
       "                                                    winning_percentage\n",
       "Subrata Roy Sahara Stadium                                   64.705882\n",
       "Dr. Y.S. Rajasekhara Reddy ACA-VDCA Cricket Sta...           63.636364\n",
       "MA Chidambaram Stadium, Chepauk                              61.224490\n",
       "Kingsmead                                                    60.000000\n",
       "Brabourne Stadium                                            54.545455"
      ]
     },
     "execution_count": 300,
     "metadata": {},
     "output_type": "execute_result"
    }
   ],
   "source": [
    "win_by_runs = matches1[matches1['win_by_runs'] > 0]['venue'].value_counts() * 100 / matches1['venue'].value_counts() \n",
    "win_by_runs = win_by_runs.sort_values(ascending=False).head(5).to_frame()\n",
    "win_by_runs.rename(columns={'venue': 'winning_percentage'}, inplace=True)\n",
    "win_by_runs"
   ]
  },
  {
   "cell_type": "markdown",
   "metadata": {},
   "source": [
    "######  7.1.4 Which are the top 5 stadiums for winning by wickets (atleast 10 matches should have been played on the venue)?"
   ]
  },
  {
   "cell_type": "code",
   "execution_count": 297,
   "metadata": {},
   "outputs": [],
   "source": [
    "# Filter the matches dataset to select on matches which were played in stadiums where atleast 10 matches were played\n",
    "matches2 = matches[matches['venue'].isin(atleast_10_mtch_at_venue.index)]"
   ]
  },
  {
   "cell_type": "code",
   "execution_count": 301,
   "metadata": {},
   "outputs": [
    {
     "data": {
      "text/html": [
       "<div>\n",
       "<style scoped>\n",
       "    .dataframe tbody tr th:only-of-type {\n",
       "        vertical-align: middle;\n",
       "    }\n",
       "\n",
       "    .dataframe tbody tr th {\n",
       "        vertical-align: top;\n",
       "    }\n",
       "\n",
       "    .dataframe thead th {\n",
       "        text-align: right;\n",
       "    }\n",
       "</style>\n",
       "<table border=\"1\" class=\"dataframe\">\n",
       "  <thead>\n",
       "    <tr style=\"text-align: right;\">\n",
       "      <th></th>\n",
       "      <th>winning_percentage</th>\n",
       "    </tr>\n",
       "  </thead>\n",
       "  <tbody>\n",
       "    <tr>\n",
       "      <th>Maharashtra Cricket Association Stadium</th>\n",
       "      <td>66.666667</td>\n",
       "    </tr>\n",
       "    <tr>\n",
       "      <th>SuperSport Park</th>\n",
       "      <td>66.666667</td>\n",
       "    </tr>\n",
       "    <tr>\n",
       "      <th>Sawai Mansingh Stadium</th>\n",
       "      <td>65.000000</td>\n",
       "    </tr>\n",
       "    <tr>\n",
       "      <th>Saurashtra Cricket Association Stadium</th>\n",
       "      <td>60.000000</td>\n",
       "    </tr>\n",
       "    <tr>\n",
       "      <th>Dr DY Patil Sports Academy</th>\n",
       "      <td>58.823529</td>\n",
       "    </tr>\n",
       "  </tbody>\n",
       "</table>\n",
       "</div>"
      ],
      "text/plain": [
       "                                         winning_percentage\n",
       "Maharashtra Cricket Association Stadium           66.666667\n",
       "SuperSport Park                                   66.666667\n",
       "Sawai Mansingh Stadium                            65.000000\n",
       "Saurashtra Cricket Association Stadium            60.000000\n",
       "Dr DY Patil Sports Academy                        58.823529"
      ]
     },
     "execution_count": 301,
     "metadata": {},
     "output_type": "execute_result"
    }
   ],
   "source": [
    "win_by_wickets = matches1[matches1['win_by_wickets'] > 0]['venue'].value_counts() * 100 / matches1['venue'].value_counts() \n",
    "win_by_wickets = win_by_wickets.sort_values(ascending=False).head(5).to_frame()\n",
    "win_by_wickets.rename(columns={'venue': 'winning_percentage'}, inplace=True)\n",
    "win_by_wickets"
   ]
  },
  {
   "cell_type": "markdown",
   "metadata": {},
   "source": [
    "######  7.1.7 Does batting first or bowling first helped in match winning for Mumbai Indians at each venue?"
   ]
  },
  {
   "cell_type": "code",
   "execution_count": 355,
   "metadata": {},
   "outputs": [
    {
     "data": {
      "text/html": [
       "<div>\n",
       "<style scoped>\n",
       "    .dataframe tbody tr th:only-of-type {\n",
       "        vertical-align: middle;\n",
       "    }\n",
       "\n",
       "    .dataframe tbody tr th {\n",
       "        vertical-align: top;\n",
       "    }\n",
       "\n",
       "    .dataframe thead th {\n",
       "        text-align: right;\n",
       "    }\n",
       "</style>\n",
       "<table border=\"1\" class=\"dataframe\">\n",
       "  <thead>\n",
       "    <tr style=\"text-align: right;\">\n",
       "      <th></th>\n",
       "      <th>TOTAL_MATCHES_AT_VENUE</th>\n",
       "      <th>MI_WINS_BY_RUNS</th>\n",
       "      <th>MI_WINS_BY_WICKETS</th>\n",
       "      <th>WIN_BY_RUN_PERCENTAGE</th>\n",
       "      <th>WIN_BY_WICKET_PERCENTAGE</th>\n",
       "    </tr>\n",
       "  </thead>\n",
       "  <tbody>\n",
       "    <tr>\n",
       "      <th>Wankhede Stadium</th>\n",
       "      <td>60</td>\n",
       "      <td>21.0</td>\n",
       "      <td>16.0</td>\n",
       "      <td>35.000000</td>\n",
       "      <td>26.666667</td>\n",
       "    </tr>\n",
       "    <tr>\n",
       "      <th>Eden Gardens</th>\n",
       "      <td>12</td>\n",
       "      <td>5.0</td>\n",
       "      <td>5.0</td>\n",
       "      <td>41.666667</td>\n",
       "      <td>41.666667</td>\n",
       "    </tr>\n",
       "    <tr>\n",
       "      <th>M Chinnaswamy Stadium</th>\n",
       "      <td>11</td>\n",
       "      <td>2.0</td>\n",
       "      <td>6.0</td>\n",
       "      <td>18.181818</td>\n",
       "      <td>54.545455</td>\n",
       "    </tr>\n",
       "    <tr>\n",
       "      <th>Feroz Shah Kotla</th>\n",
       "      <td>10</td>\n",
       "      <td>2.0</td>\n",
       "      <td>1.0</td>\n",
       "      <td>20.000000</td>\n",
       "      <td>10.000000</td>\n",
       "    </tr>\n",
       "    <tr>\n",
       "      <th>Rajiv Gandhi International Stadium, Uppal</th>\n",
       "      <td>9</td>\n",
       "      <td>3.0</td>\n",
       "      <td>2.0</td>\n",
       "      <td>33.333333</td>\n",
       "      <td>22.222222</td>\n",
       "    </tr>\n",
       "    <tr>\n",
       "      <th>Brabourne Stadium</th>\n",
       "      <td>8</td>\n",
       "      <td>3.0</td>\n",
       "      <td>3.0</td>\n",
       "      <td>37.500000</td>\n",
       "      <td>37.500000</td>\n",
       "    </tr>\n",
       "    <tr>\n",
       "      <th>Dr DY Patil Sports Academy</th>\n",
       "      <td>7</td>\n",
       "      <td>4.0</td>\n",
       "      <td>1.0</td>\n",
       "      <td>57.142857</td>\n",
       "      <td>14.285714</td>\n",
       "    </tr>\n",
       "    <tr>\n",
       "      <th>Punjab Cricket Association Stadium, Mohali</th>\n",
       "      <td>6</td>\n",
       "      <td>1.0</td>\n",
       "      <td>2.0</td>\n",
       "      <td>16.666667</td>\n",
       "      <td>33.333333</td>\n",
       "    </tr>\n",
       "    <tr>\n",
       "      <th>Sawai Mansingh Stadium</th>\n",
       "      <td>6</td>\n",
       "      <td>1.0</td>\n",
       "      <td>1.0</td>\n",
       "      <td>16.666667</td>\n",
       "      <td>16.666667</td>\n",
       "    </tr>\n",
       "    <tr>\n",
       "      <th>MA Chidambaram Stadium, Chepauk</th>\n",
       "      <td>6</td>\n",
       "      <td>1.0</td>\n",
       "      <td>2.0</td>\n",
       "      <td>16.666667</td>\n",
       "      <td>33.333333</td>\n",
       "    </tr>\n",
       "    <tr>\n",
       "      <th>Dr. Y.S. Rajasekhara Reddy ACA-VDCA Cricket Stadium</th>\n",
       "      <td>4</td>\n",
       "      <td>1.0</td>\n",
       "      <td>1.0</td>\n",
       "      <td>25.000000</td>\n",
       "      <td>25.000000</td>\n",
       "    </tr>\n",
       "    <tr>\n",
       "      <th>Dubai International Cricket Stadium</th>\n",
       "      <td>3</td>\n",
       "      <td>NaN</td>\n",
       "      <td>NaN</td>\n",
       "      <td>NaN</td>\n",
       "      <td>NaN</td>\n",
       "    </tr>\n",
       "    <tr>\n",
       "      <th>St George's Park</th>\n",
       "      <td>3</td>\n",
       "      <td>2.0</td>\n",
       "      <td>NaN</td>\n",
       "      <td>66.666667</td>\n",
       "      <td>NaN</td>\n",
       "    </tr>\n",
       "    <tr>\n",
       "      <th>SuperSport Park</th>\n",
       "      <td>3</td>\n",
       "      <td>NaN</td>\n",
       "      <td>1.0</td>\n",
       "      <td>NaN</td>\n",
       "      <td>33.333333</td>\n",
       "    </tr>\n",
       "    <tr>\n",
       "      <th>Maharashtra Cricket Association Stadium</th>\n",
       "      <td>3</td>\n",
       "      <td>NaN</td>\n",
       "      <td>2.0</td>\n",
       "      <td>NaN</td>\n",
       "      <td>66.666667</td>\n",
       "    </tr>\n",
       "    <tr>\n",
       "      <th>Kingsmead</th>\n",
       "      <td>3</td>\n",
       "      <td>NaN</td>\n",
       "      <td>NaN</td>\n",
       "      <td>NaN</td>\n",
       "      <td>NaN</td>\n",
       "    </tr>\n",
       "    <tr>\n",
       "      <th>Buffalo Park</th>\n",
       "      <td>2</td>\n",
       "      <td>1.0</td>\n",
       "      <td>NaN</td>\n",
       "      <td>50.000000</td>\n",
       "      <td>NaN</td>\n",
       "    </tr>\n",
       "    <tr>\n",
       "      <th>Holkar Cricket Stadium</th>\n",
       "      <td>2</td>\n",
       "      <td>NaN</td>\n",
       "      <td>2.0</td>\n",
       "      <td>NaN</td>\n",
       "      <td>100.000000</td>\n",
       "    </tr>\n",
       "    <tr>\n",
       "      <th>Sardar Patel Stadium, Motera</th>\n",
       "      <td>2</td>\n",
       "      <td>1.0</td>\n",
       "      <td>NaN</td>\n",
       "      <td>50.000000</td>\n",
       "      <td>NaN</td>\n",
       "    </tr>\n",
       "    <tr>\n",
       "      <th>Subrata Roy Sahara Stadium</th>\n",
       "      <td>2</td>\n",
       "      <td>1.0</td>\n",
       "      <td>1.0</td>\n",
       "      <td>50.000000</td>\n",
       "      <td>50.000000</td>\n",
       "    </tr>\n",
       "    <tr>\n",
       "      <th>Newlands</th>\n",
       "      <td>1</td>\n",
       "      <td>1.0</td>\n",
       "      <td>NaN</td>\n",
       "      <td>100.000000</td>\n",
       "      <td>NaN</td>\n",
       "    </tr>\n",
       "    <tr>\n",
       "      <th>New Wanderers Stadium</th>\n",
       "      <td>1</td>\n",
       "      <td>NaN</td>\n",
       "      <td>NaN</td>\n",
       "      <td>NaN</td>\n",
       "      <td>NaN</td>\n",
       "    </tr>\n",
       "    <tr>\n",
       "      <th>Himachal Pradesh Cricket Association Stadium</th>\n",
       "      <td>1</td>\n",
       "      <td>NaN</td>\n",
       "      <td>NaN</td>\n",
       "      <td>NaN</td>\n",
       "      <td>NaN</td>\n",
       "    </tr>\n",
       "    <tr>\n",
       "      <th>Green Park</th>\n",
       "      <td>1</td>\n",
       "      <td>NaN</td>\n",
       "      <td>NaN</td>\n",
       "      <td>NaN</td>\n",
       "      <td>NaN</td>\n",
       "    </tr>\n",
       "    <tr>\n",
       "      <th>Punjab Cricket Association IS Bindra Stadium, Mohali</th>\n",
       "      <td>1</td>\n",
       "      <td>1.0</td>\n",
       "      <td>NaN</td>\n",
       "      <td>100.000000</td>\n",
       "      <td>NaN</td>\n",
       "    </tr>\n",
       "    <tr>\n",
       "      <th>Barabati Stadium</th>\n",
       "      <td>1</td>\n",
       "      <td>NaN</td>\n",
       "      <td>NaN</td>\n",
       "      <td>NaN</td>\n",
       "      <td>NaN</td>\n",
       "    </tr>\n",
       "    <tr>\n",
       "      <th>Sheikh Zayed Stadium</th>\n",
       "      <td>1</td>\n",
       "      <td>NaN</td>\n",
       "      <td>NaN</td>\n",
       "      <td>NaN</td>\n",
       "      <td>NaN</td>\n",
       "    </tr>\n",
       "    <tr>\n",
       "      <th>Sharjah Cricket Stadium</th>\n",
       "      <td>1</td>\n",
       "      <td>NaN</td>\n",
       "      <td>NaN</td>\n",
       "      <td>NaN</td>\n",
       "      <td>NaN</td>\n",
       "    </tr>\n",
       "    <tr>\n",
       "      <th>Saurashtra Cricket Association Stadium</th>\n",
       "      <td>1</td>\n",
       "      <td>NaN</td>\n",
       "      <td>NaN</td>\n",
       "      <td>NaN</td>\n",
       "      <td>NaN</td>\n",
       "    </tr>\n",
       "  </tbody>\n",
       "</table>\n",
       "</div>"
      ],
      "text/plain": [
       "                                                    TOTAL_MATCHES_AT_VENUE  \\\n",
       "Wankhede Stadium                                                        60   \n",
       "Eden Gardens                                                            12   \n",
       "M Chinnaswamy Stadium                                                   11   \n",
       "Feroz Shah Kotla                                                        10   \n",
       "Rajiv Gandhi International Stadium, Uppal                                9   \n",
       "Brabourne Stadium                                                        8   \n",
       "Dr DY Patil Sports Academy                                               7   \n",
       "Punjab Cricket Association Stadium, Mohali                               6   \n",
       "Sawai Mansingh Stadium                                                   6   \n",
       "MA Chidambaram Stadium, Chepauk                                          6   \n",
       "Dr. Y.S. Rajasekhara Reddy ACA-VDCA Cricket Sta...                       4   \n",
       "Dubai International Cricket Stadium                                      3   \n",
       "St George's Park                                                         3   \n",
       "SuperSport Park                                                          3   \n",
       "Maharashtra Cricket Association Stadium                                  3   \n",
       "Kingsmead                                                                3   \n",
       "Buffalo Park                                                             2   \n",
       "Holkar Cricket Stadium                                                   2   \n",
       "Sardar Patel Stadium, Motera                                             2   \n",
       "Subrata Roy Sahara Stadium                                               2   \n",
       "Newlands                                                                 1   \n",
       "New Wanderers Stadium                                                    1   \n",
       "Himachal Pradesh Cricket Association Stadium                             1   \n",
       "Green Park                                                               1   \n",
       "Punjab Cricket Association IS Bindra Stadium, M...                       1   \n",
       "Barabati Stadium                                                         1   \n",
       "Sheikh Zayed Stadium                                                     1   \n",
       "Sharjah Cricket Stadium                                                  1   \n",
       "Saurashtra Cricket Association Stadium                                   1   \n",
       "\n",
       "                                                    MI_WINS_BY_RUNS  \\\n",
       "Wankhede Stadium                                               21.0   \n",
       "Eden Gardens                                                    5.0   \n",
       "M Chinnaswamy Stadium                                           2.0   \n",
       "Feroz Shah Kotla                                                2.0   \n",
       "Rajiv Gandhi International Stadium, Uppal                       3.0   \n",
       "Brabourne Stadium                                               3.0   \n",
       "Dr DY Patil Sports Academy                                      4.0   \n",
       "Punjab Cricket Association Stadium, Mohali                      1.0   \n",
       "Sawai Mansingh Stadium                                          1.0   \n",
       "MA Chidambaram Stadium, Chepauk                                 1.0   \n",
       "Dr. Y.S. Rajasekhara Reddy ACA-VDCA Cricket Sta...              1.0   \n",
       "Dubai International Cricket Stadium                             NaN   \n",
       "St George's Park                                                2.0   \n",
       "SuperSport Park                                                 NaN   \n",
       "Maharashtra Cricket Association Stadium                         NaN   \n",
       "Kingsmead                                                       NaN   \n",
       "Buffalo Park                                                    1.0   \n",
       "Holkar Cricket Stadium                                          NaN   \n",
       "Sardar Patel Stadium, Motera                                    1.0   \n",
       "Subrata Roy Sahara Stadium                                      1.0   \n",
       "Newlands                                                        1.0   \n",
       "New Wanderers Stadium                                           NaN   \n",
       "Himachal Pradesh Cricket Association Stadium                    NaN   \n",
       "Green Park                                                      NaN   \n",
       "Punjab Cricket Association IS Bindra Stadium, M...              1.0   \n",
       "Barabati Stadium                                                NaN   \n",
       "Sheikh Zayed Stadium                                            NaN   \n",
       "Sharjah Cricket Stadium                                         NaN   \n",
       "Saurashtra Cricket Association Stadium                          NaN   \n",
       "\n",
       "                                                    MI_WINS_BY_WICKETS  \\\n",
       "Wankhede Stadium                                                  16.0   \n",
       "Eden Gardens                                                       5.0   \n",
       "M Chinnaswamy Stadium                                              6.0   \n",
       "Feroz Shah Kotla                                                   1.0   \n",
       "Rajiv Gandhi International Stadium, Uppal                          2.0   \n",
       "Brabourne Stadium                                                  3.0   \n",
       "Dr DY Patil Sports Academy                                         1.0   \n",
       "Punjab Cricket Association Stadium, Mohali                         2.0   \n",
       "Sawai Mansingh Stadium                                             1.0   \n",
       "MA Chidambaram Stadium, Chepauk                                    2.0   \n",
       "Dr. Y.S. Rajasekhara Reddy ACA-VDCA Cricket Sta...                 1.0   \n",
       "Dubai International Cricket Stadium                                NaN   \n",
       "St George's Park                                                   NaN   \n",
       "SuperSport Park                                                    1.0   \n",
       "Maharashtra Cricket Association Stadium                            2.0   \n",
       "Kingsmead                                                          NaN   \n",
       "Buffalo Park                                                       NaN   \n",
       "Holkar Cricket Stadium                                             2.0   \n",
       "Sardar Patel Stadium, Motera                                       NaN   \n",
       "Subrata Roy Sahara Stadium                                         1.0   \n",
       "Newlands                                                           NaN   \n",
       "New Wanderers Stadium                                              NaN   \n",
       "Himachal Pradesh Cricket Association Stadium                       NaN   \n",
       "Green Park                                                         NaN   \n",
       "Punjab Cricket Association IS Bindra Stadium, M...                 NaN   \n",
       "Barabati Stadium                                                   NaN   \n",
       "Sheikh Zayed Stadium                                               NaN   \n",
       "Sharjah Cricket Stadium                                            NaN   \n",
       "Saurashtra Cricket Association Stadium                             NaN   \n",
       "\n",
       "                                                    WIN_BY_RUN_PERCENTAGE  \\\n",
       "Wankhede Stadium                                                35.000000   \n",
       "Eden Gardens                                                    41.666667   \n",
       "M Chinnaswamy Stadium                                           18.181818   \n",
       "Feroz Shah Kotla                                                20.000000   \n",
       "Rajiv Gandhi International Stadium, Uppal                       33.333333   \n",
       "Brabourne Stadium                                               37.500000   \n",
       "Dr DY Patil Sports Academy                                      57.142857   \n",
       "Punjab Cricket Association Stadium, Mohali                      16.666667   \n",
       "Sawai Mansingh Stadium                                          16.666667   \n",
       "MA Chidambaram Stadium, Chepauk                                 16.666667   \n",
       "Dr. Y.S. Rajasekhara Reddy ACA-VDCA Cricket Sta...              25.000000   \n",
       "Dubai International Cricket Stadium                                   NaN   \n",
       "St George's Park                                                66.666667   \n",
       "SuperSport Park                                                       NaN   \n",
       "Maharashtra Cricket Association Stadium                               NaN   \n",
       "Kingsmead                                                             NaN   \n",
       "Buffalo Park                                                    50.000000   \n",
       "Holkar Cricket Stadium                                                NaN   \n",
       "Sardar Patel Stadium, Motera                                    50.000000   \n",
       "Subrata Roy Sahara Stadium                                      50.000000   \n",
       "Newlands                                                       100.000000   \n",
       "New Wanderers Stadium                                                 NaN   \n",
       "Himachal Pradesh Cricket Association Stadium                          NaN   \n",
       "Green Park                                                            NaN   \n",
       "Punjab Cricket Association IS Bindra Stadium, M...             100.000000   \n",
       "Barabati Stadium                                                      NaN   \n",
       "Sheikh Zayed Stadium                                                  NaN   \n",
       "Sharjah Cricket Stadium                                               NaN   \n",
       "Saurashtra Cricket Association Stadium                                NaN   \n",
       "\n",
       "                                                    WIN_BY_WICKET_PERCENTAGE  \n",
       "Wankhede Stadium                                                   26.666667  \n",
       "Eden Gardens                                                       41.666667  \n",
       "M Chinnaswamy Stadium                                              54.545455  \n",
       "Feroz Shah Kotla                                                   10.000000  \n",
       "Rajiv Gandhi International Stadium, Uppal                          22.222222  \n",
       "Brabourne Stadium                                                  37.500000  \n",
       "Dr DY Patil Sports Academy                                         14.285714  \n",
       "Punjab Cricket Association Stadium, Mohali                         33.333333  \n",
       "Sawai Mansingh Stadium                                             16.666667  \n",
       "MA Chidambaram Stadium, Chepauk                                    33.333333  \n",
       "Dr. Y.S. Rajasekhara Reddy ACA-VDCA Cricket Sta...                 25.000000  \n",
       "Dubai International Cricket Stadium                                      NaN  \n",
       "St George's Park                                                         NaN  \n",
       "SuperSport Park                                                    33.333333  \n",
       "Maharashtra Cricket Association Stadium                            66.666667  \n",
       "Kingsmead                                                                NaN  \n",
       "Buffalo Park                                                             NaN  \n",
       "Holkar Cricket Stadium                                            100.000000  \n",
       "Sardar Patel Stadium, Motera                                             NaN  \n",
       "Subrata Roy Sahara Stadium                                         50.000000  \n",
       "Newlands                                                                 NaN  \n",
       "New Wanderers Stadium                                                    NaN  \n",
       "Himachal Pradesh Cricket Association Stadium                             NaN  \n",
       "Green Park                                                               NaN  \n",
       "Punjab Cricket Association IS Bindra Stadium, M...                       NaN  \n",
       "Barabati Stadium                                                         NaN  \n",
       "Sheikh Zayed Stadium                                                     NaN  \n",
       "Sharjah Cricket Stadium                                                  NaN  \n",
       "Saurashtra Cricket Association Stadium                                   NaN  "
      ]
     },
     "execution_count": 355,
     "metadata": {},
     "output_type": "execute_result"
    }
   ],
   "source": [
    "# filter matches which MI played\n",
    "mi_matches = matches[(matches['team1'] == \"MI\") | (matches['team2'] == \"MI\")]\n",
    "mi_total_matches = mi_matches[\"venue\"].value_counts().to_frame()\n",
    "mi_total_matches.rename(columns={'venue': 'TOTAL_MATCHES_AT_VENUE'}, inplace=True)\n",
    "\n",
    "#filter where MI is winner and win is by Run \n",
    "win_by_runs = mi_matches[(mi_matches['winner'] == \"MI\") & (mi_matches[\"win_by_runs\"] > 0)]\n",
    "win_by_runs_count = win_by_runs['venue'].value_counts().to_frame()\n",
    "win_by_runs_count.rename(columns={'venue': 'MI_WINS_BY_RUNS'}, inplace=True)\n",
    "\n",
    "#filter where MI is winner and win is by wickets\n",
    "win_by_wickets = mi_matches[(mi_matches['winner'] == \"MI\") & (mi_matches[\"win_by_wickets\"] > 0)]\n",
    "win_by_wickets_count = win_by_wickets['venue'].value_counts().to_frame()\n",
    "win_by_wickets_count.rename(columns={'venue': 'MI_WINS_BY_WICKETS'}, inplace=True)\n",
    "\n",
    "frames = [mi_total_matches, win_by_runs_count, win_by_wickets_count]\n",
    "result = pd.concat(frames, axis=1)\n",
    "result[\"WIN_BY_RUN_PERCENTAGE\"] = result[\"MI_WINS_BY_RUNS\"] * 100 / result[\"TOTAL_MATCHES_AT_VENUE\"] \n",
    "result[\"WIN_BY_WICKET_PERCENTAGE\"] = result[\"MI_WINS_BY_WICKETS\"] * 100 / result[\"TOTAL_MATCHES_AT_VENUE\"] \n",
    "result"
   ]
  },
  {
   "cell_type": "markdown",
   "metadata": {},
   "source": [
    "- **Mumbai Indians** played most matches at **Wankhede Stadium** where batting first helped them winning the match by 35%\n",
    "- **Mumbai Indians** didnt played much matches at other venues, so stats at other venue are not relevent"
   ]
  },
  {
   "cell_type": "markdown",
   "metadata": {},
   "source": [
    "######  7.1.8 In which city does Weather affected matches?"
   ]
  },
  {
   "cell_type": "markdown",
   "metadata": {},
   "source": [
    "######  7.1.9 Which season had the most number of matches?"
   ]
  },
  {
   "cell_type": "markdown",
   "metadata": {},
   "source": [
    "######  7.1.10 Which venue is best for chasing?"
   ]
  },
  {
   "cell_type": "markdown",
   "metadata": {},
   "source": [
    "######  7.1.11 Which venue is best for defending?"
   ]
  },
  {
   "cell_type": "markdown",
   "metadata": {},
   "source": [
    "######  7.1.12 Which city hosted the most number of matches?"
   ]
  },
  {
   "cell_type": "markdown",
   "metadata": {},
   "source": [
    "######  7.1.13 Toss Call for a given venue"
   ]
  },
  {
   "cell_type": "markdown",
   "metadata": {},
   "source": [
    "Mumbai Indians can opt to bat first at Feroz Shah Kotla as this stadium has most winning by runs "
   ]
  }
 ],
 "metadata": {
  "kernelspec": {
   "display_name": "Python 3",
   "language": "python",
   "name": "python3"
  },
  "language_info": {
   "codemirror_mode": {
    "name": "ipython",
    "version": 3
   },
   "file_extension": ".py",
   "mimetype": "text/x-python",
   "name": "python",
   "nbconvert_exporter": "python",
   "pygments_lexer": "ipython3",
   "version": "3.8.3"
  }
 },
 "nbformat": 4,
 "nbformat_minor": 4
}
